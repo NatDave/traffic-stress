{
 "cells": [
  {
   "cell_type": "code",
   "execution_count": null,
   "metadata": {},
   "outputs": [],
   "source": [
    "\n",
    "import geopandas as gpd\n",
    "import os\n",
    "import warnings\n",
    "import ast\n",
    "\n",
    "warnings.filterwarnings(\"ignore\")\n",
    "\n",
    "# Base directory path\n",
    "base_dir = r\"C:\\Users\\natda\\OneDrive - Northeastern University\\Desktop\\NatDave\\Academics\\PhD_NU\\RESEARCH\\Traffic_Stress\\Boston\"\n",
    "\n",
    "# Construct file paths\n",
    "roads_path = os.path.join(base_dir, \"street_network.shp\")\n",
    "crossings_path = os.path.join(base_dir, \"crossings.shp\")\n",
    "freeway_ramps_path = os.path.join(base_dir, \"osm_freeway_ramps.gdb\")\n",
    "\n",
    "# Load shapefiles\n",
    "roads = gpd.read_file(roads_path)\n",
    "crossings = gpd.read_file(crossings_path)\n",
    "freeway_ramps = gpd.read_file(freeway_ramps_path)\n",
    "\n",
    "# Convert CRS_LEG from string to list\n",
    "crossings['CRS_LEG'] = crossings['CRS_LEG'].apply(lambda x: ast.literal_eval(x) if isinstance(x, str) else x)\n",
    "\n",
    "# Create a new column FW_RAMP and initialize all values to None\n",
    "crossings['FW_RAMP'] = None\n",
    "\n",
    "# Reproject freeway ramps to match roads CRS\n",
    "freeway_ramps = freeway_ramps.to_crs(roads.crs)\n",
    "\n",
    "# Buffer freeway ramps by 2.5 meters\n",
    "ramp_buffer = freeway_ramps.copy()\n",
    "ramp_buffer['geometry'] = ramp_buffer.geometry.buffer(2.5)\n",
    "\n",
    "# Find road segments that intersect either the ramp itself or the 2.5m buffer\n",
    "ramp_intersecting_roads = roads[roads.geometry.intersects(ramp_buffer.unary_union)]\n",
    "ramp_road_ids = set(ramp_intersecting_roads['unique_id'])\n",
    "\n",
    "# Assign FW_RAMP = 1 where CRS_LEG contains an intersecting road segment\n",
    "crossings['FW_RAMP'] = crossings['CRS_LEG'].apply(lambda x: 1 if any(seg in ramp_road_ids for seg in x) else None)\n",
    "\n",
    "# Save the updated crossings shapefile\n",
    "crossings.to_file(crossings_path, driver='ESRI Shapefile')\n",
    "\n",
    "print(\"Updated crossings.shp with FW_RAMP attribute for freeway ramps (including 2.5m buffer).\")"
   ]
  },
  {
   "cell_type": "code",
   "execution_count": null,
   "metadata": {},
   "outputs": [],
   "source": [
    "crossings['FW_RAMP'].value_counts()"
   ]
  }
 ],
 "metadata": {
  "kernelspec": {
   "display_name": "Python 3",
   "language": "python",
   "name": "python3"
  },
  "language_info": {
   "codemirror_mode": {
    "name": "ipython",
    "version": 3
   },
   "file_extension": ".py",
   "mimetype": "text/x-python",
   "name": "python",
   "nbconvert_exporter": "python",
   "pygments_lexer": "ipython3",
   "version": "3.10.0"
  }
 },
 "nbformat": 4,
 "nbformat_minor": 2
}
