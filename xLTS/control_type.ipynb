{
 "cells": [
  {
   "cell_type": "code",
   "execution_count": 4,
   "metadata": {},
   "outputs": [],
   "source": [
    "import geopandas as gpd\n",
    "import os\n",
    "\n",
    "# Base directory path\n",
    "base_dir = r\"C:\\Users\\natda\\Desktop\\NatDave\\Academics\\PhD_NU\\RESEARCH\\Traffic_Stress\\Boston\"\n",
    "\n",
    "# Construct file paths using os.path.join\n",
    "junctions_path = os.path.join(base_dir, \"junctions.shp\")\n",
    "signals_path = os.path.join(base_dir, \"osm_signals.gdb\")\n",
    "\n",
    "# Load shapefiles\n",
    "junctions = gpd.read_file(junctions_path)\n",
    "signals = gpd.read_file(signals_path)\n",
    "\n",
    "# Reproject signals to match junctions CRS (EPSG:6491)\n",
    "signals = signals.to_crs(junctions.crs)\n",
    "\n",
    "# Create the 'control' column in the junctions shapefile\n",
    "junctions['control'] = \"\"\n",
    "\n",
    "# Add 'ID' column to signals and assign sequential values\n",
    "signals['ID'] = range(1, len(signals) + 1)\n",
    "\n",
    "# List to track unassociated signals\n",
    "unassociated_signals = set(signals['ID'].tolist())"
   ]
  },
  {
   "cell_type": "code",
   "execution_count": 5,
   "metadata": {},
   "outputs": [
    {
     "name": "stdout",
     "output_type": "stream",
     "text": [
      "There are 414 unassociated signals.\n",
      "Unassociated Signals: [1, 2, 3, 4, 5, 6, 42, 188, 202, 205, 223, 229, 248, 266, 283, 302, 316, 325, 339, 342, 370, 380, 383, 397, 406, 407, 416, 419, 420, 431, 433, 439, 442, 445, 446, 447, 451, 453, 454, 459, 476, 480, 481, 491, 500, 506, 515, 517, 526, 527, 534, 537, 538, 550, 552, 555, 557, 560, 566, 567, 568, 569, 572, 573, 574, 575, 576, 578, 579, 580, 581, 582, 583, 584, 585, 586, 587, 588, 596, 598, 600, 602, 606, 608, 610, 611, 612, 613, 614, 615, 616, 617, 622, 625, 627, 630, 632, 638, 645, 658, 659, 660, 670, 672, 674, 675, 676, 686, 687, 690, 691, 692, 707, 709, 710, 715, 721, 724, 726, 730, 731, 733, 734, 735, 736, 737, 738, 739, 740, 741, 742, 743, 755, 757, 758, 759, 760, 761, 765, 766, 767, 768, 769, 770, 771, 774, 777, 778, 789, 807, 809, 811, 814, 817, 822, 823, 824, 825, 833, 834, 835, 836, 841, 848, 852, 859, 861, 862, 868, 869, 870, 888, 957, 958, 969, 989, 990, 991, 996, 1003, 1006, 1009, 1029, 1030, 1045, 1058, 1059, 1078, 1079, 1080, 1081, 1090, 1109, 1111, 1115, 1117, 1120, 1124, 1125, 1126, 1129, 1156, 1160, 1164, 1166, 1167, 1176, 1186, 1204, 1205, 1206, 1207, 1220, 1224, 1231, 1241, 1243, 1247, 1250, 1256, 1257, 1258, 1264, 1274, 1282, 1283, 1314, 1315, 1316, 1324, 1325, 1326, 1338, 1361, 1362, 1363, 1364, 1365, 1366, 1367, 1368, 1369, 1371, 1372, 1376, 1394, 1399, 1403, 1411, 1417, 1422, 1430, 1433, 1436, 1437, 1438, 1442, 1443, 1444, 1445, 1454, 1460, 1463, 1465, 1466, 1467, 1472, 1476, 1477, 1504, 1505, 1513, 1514, 1515, 1517, 1518, 1522, 1528, 1562, 1563, 1573, 1586, 1588, 1598, 1599, 1637, 1638, 1643, 1647, 1648, 1649, 1650, 1655, 1662, 1664, 1667, 1680, 1706, 1714, 1734, 1737, 1738, 1739, 1740, 1741, 1749, 1753, 1755, 1756, 1780, 1782, 1783, 1784, 1785, 1786, 1787, 1805, 1808, 1809, 1834, 1835, 1836, 1837, 1840, 1843, 1845, 1846, 1847, 1848, 1871, 1896, 1906, 1908, 1909, 1913, 1920, 1927, 1929, 1943, 1959, 1960, 1966, 1967, 1968, 1969, 1978, 1991, 1996, 2002, 2003, 2004, 2010, 2012, 2031, 2047, 2069, 2088, 2091, 2103, 2124, 2135, 2144, 2145, 2146, 2147, 2148, 2149, 2150, 2151, 2157, 2158, 2169, 2173, 2180, 2192, 2201, 2203, 2204, 2205, 2206, 2207, 2211, 2212, 2220, 2221, 2222, 2223, 2224, 2225, 2231, 2232, 2233, 2239, 2254, 2255, 2268, 2269, 2292, 2293, 2295, 2297, 2321, 2322, 2323, 2329, 2331, 2332, 2337, 2341, 2342, 2345, 2351, 2357, 2358]\n"
     ]
    }
   ],
   "source": [
    "# Function to calculate the distance between a signal and all junctions\n",
    "def find_nearest_junction(signal, junctions_gdf, threshold=25):\n",
    "    # Calculate distances to all junctions\n",
    "    distances = junctions_gdf.geometry.distance(signal.geometry)\n",
    "    within_threshold = distances[distances <= threshold]\n",
    "    \n",
    "    if within_threshold.empty:\n",
    "        return None  # No junctions within 14 m\n",
    "    \n",
    "    # Find the closest junction\n",
    "    nearest_junction_idx = within_threshold.idxmin()\n",
    "    return junctions_gdf.loc[nearest_junction_idx, 'geometry'], nearest_junction_idx\n",
    "\n",
    "# Iterate through each signal and find the closest junction\n",
    "for _, signal in signals.iterrows():\n",
    "    nearest = find_nearest_junction(signal, junctions)\n",
    "    \n",
    "    if nearest:\n",
    "        _, nearest_junction_idx = nearest\n",
    "        \n",
    "        # Mark the nearest junction as \"signal\" in the control column\n",
    "        junctions.at[nearest_junction_idx, 'control'] = \"signal\"\n",
    "        \n",
    "        # Remove this signal ID from the unassociated list\n",
    "        unassociated_signals.discard(signal['ID'])\n",
    "\n",
    "# Save the updated junctions shapefile\n",
    "junctions.to_file(junctions_path, driver='ESRI Shapefile')\n",
    "\n",
    "# Output the list of unassociated signal IDs\n",
    "print(f\"There are {len(unassociated_signals)} unassociated signals.\")\n",
    "print(\"Unassociated Signals:\", list(unassociated_signals))"
   ]
  },
  {
   "cell_type": "code",
   "execution_count": 6,
   "metadata": {},
   "outputs": [
    {
     "data": {
      "text/plain": [
       "control\n",
       "          11289\n",
       "signal     1058\n",
       "Name: count, dtype: int64"
      ]
     },
     "execution_count": 6,
     "metadata": {},
     "output_type": "execute_result"
    }
   ],
   "source": [
    "junctions['control'].value_counts()"
   ]
  }
 ],
 "metadata": {
  "kernelspec": {
   "display_name": "Python 3",
   "language": "python",
   "name": "python3"
  },
  "language_info": {
   "codemirror_mode": {
    "name": "ipython",
    "version": 3
   },
   "file_extension": ".py",
   "mimetype": "text/x-python",
   "name": "python",
   "nbconvert_exporter": "python",
   "pygments_lexer": "ipython3",
   "version": "3.10.0"
  }
 },
 "nbformat": 4,
 "nbformat_minor": 2
}
