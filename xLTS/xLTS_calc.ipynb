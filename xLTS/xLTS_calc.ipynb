{
 "cells": [
  {
   "cell_type": "code",
   "execution_count": null,
   "metadata": {},
   "outputs": [],
   "source": [
    "import pandas as pd\n",
    "import geopandas as gpd\n",
    "\n",
    "# Load crossings shapefile\n",
    "crossings_path = r\"C:\\Users\\natda\\OneDrive - Northeastern University\\Desktop\\NatDave\\Academics\\PhD_NU\\RESEARCH\\Traffic_Stress\\Boston\\crossings.shp\"\n",
    "crossings = gpd.read_file(crossings_path)\n",
    "\n",
    "# Create new column for xLTS\n",
    "crossings['xLTS'] = None\n",
    "\n",
    "# Convert relevant columns to numeric (handle possible NaNs)\n",
    "numeric_cols = ['CRS_SPEED', 'CRS_ISLAND', 'CRS_ADT', 'CRS_LANES']\n",
    "crossings[numeric_cols] = crossings[numeric_cols].apply(pd.to_numeric, errors='coerce')"
   ]
  },
  {
   "cell_type": "code",
   "execution_count": 29,
   "metadata": {},
   "outputs": [],
   "source": [
    "# Assign xLTS=1 for cases where approach has priority\n",
    "crossings.loc[crossings['CONTROL'].isin(['signal', 'stop', 'implied_stop']), 'xLTS'] = 1"
   ]
  },
  {
   "cell_type": "code",
   "execution_count": 30,
   "metadata": {},
   "outputs": [],
   "source": [
    "# Path crossings at unsignalized intersections\n",
    "\n",
    "for idx, row in crossings.iterrows():\n",
    "    if pd.notna(row['xLTS']):\n",
    "        continue\n",
    "    \n",
    "    speed = row['CRS_SPEED']\n",
    "    rrfb = row['RRFB']\n",
    "    island = row['CRS_ISLAND']\n",
    "    adt = row['CRS_ADT']\n",
    "    path_xing = row['PATH_XING']\n",
    "\n",
    "    if path_xing == \"True\":\n",
    "        if speed <= 38.5:\n",
    "            if rrfb:\n",
    "                xLTS = 1\n",
    "            elif adt <= 8_000:\n",
    "                xLTS = 1\n",
    "        elif speed <= 28.5:\n",
    "            if island:\n",
    "                xLTS = 1\n",
    "\n",
    "        if 'xLTS' in locals():\n",
    "            crossings.at[idx, 'xLTS'] = xLTS"
   ]
  },
  {
   "cell_type": "code",
   "execution_count": 31,
   "metadata": {},
   "outputs": [],
   "source": [
    "# Assign xLTS for other unsignalized crossings\n",
    "for idx, row in crossings.iterrows():\n",
    "    if pd.notna(row['xLTS']):\n",
    "        continue\n",
    "\n",
    "    speed = row['CRS_SPEED']\n",
    "    island = row['CRS_ISLAND']\n",
    "    adt = row['CRS_ADT']\n",
    "    lanes = row['CRS_LANES'] * 2  # Two times the number of lanes per direction\n",
    "\n",
    "    # Initialize xLTS only when conditions are met\n",
    "    if speed <= 38.5 and island == 1:\n",
    "        if adt < 12_000:\n",
    "            xLTS = 1\n",
    "        elif adt < 24_000:\n",
    "            xLTS = 2\n",
    "        else:\n",
    "            xLTS = 3\n",
    "    elif speed <= 38.5 and island == 0:\n",
    "        if lanes <= 3:\n",
    "            if adt < 9_000:\n",
    "                xLTS = 1\n",
    "            elif adt < 17_000:\n",
    "                xLTS = 2\n",
    "            else:\n",
    "                xLTS = 3\n",
    "        else:\n",
    "            if adt < 6_000:\n",
    "                xLTS = 1\n",
    "            elif adt < 12_000:\n",
    "                xLTS = 2\n",
    "            elif adt < 19_000:\n",
    "                xLTS = 3\n",
    "            else:\n",
    "                xLTS = 4\n",
    "    elif speed > 38.5 and island == 1:\n",
    "        if adt < 8_000:\n",
    "            xLTS = 1\n",
    "        elif adt < 17_000:\n",
    "            xLTS = 2\n",
    "        else:\n",
    "            xLTS = 3\n",
    "    elif speed > 38.5 and island == 0:\n",
    "        if lanes <= 3:\n",
    "            if adt < 6_000:\n",
    "                xLTS = 1\n",
    "            elif adt < 12_000:\n",
    "                xLTS = 2\n",
    "            elif adt < 18_000:\n",
    "                xLTS = 3\n",
    "            else:\n",
    "                xLTS = 4\n",
    "        else:\n",
    "            if adt < 10_000:\n",
    "                xLTS = 2\n",
    "            elif adt < 14_000:\n",
    "                xLTS = 3\n",
    "            else:\n",
    "                xLTS = 4\n",
    "    else:\n",
    "        continue  # Skip if no conditions are met\n",
    "\n",
    "    # Assign xLTS to the DataFrame\n",
    "    crossings.at[idx, 'xLTS'] = xLTS"
   ]
  },
  {
   "cell_type": "code",
   "execution_count": 32,
   "metadata": {},
   "outputs": [],
   "source": [
    "# Freeway Ramp Triggers (98 for on ramp and 99 for off ramp)\n",
    "crossings.loc[~crossings['CONTROL'].isin(['signal', 'stop', 'implied_stop']) & \n",
    "              (crossings['CRS_qNoAcc'].isin([98, 99])), 'xLTS'] = 2"
   ]
  },
  {
   "cell_type": "code",
   "execution_count": 33,
   "metadata": {},
   "outputs": [],
   "source": [
    "# Save the updated shapefile\n",
    "crossings.to_file(crossings_path, driver='ESRI Shapefile')"
   ]
  },
  {
   "cell_type": "code",
   "execution_count": 34,
   "metadata": {},
   "outputs": [
    {
     "name": "stdout",
     "output_type": "stream",
     "text": [
      "xLTS\n",
      "1    39989\n",
      "2     1964\n",
      "Name: count, dtype: int64\n"
     ]
    }
   ],
   "source": [
    "print(crossings['xLTS'].value_counts(dropna=False))"
   ]
  }
 ],
 "metadata": {
  "kernelspec": {
   "display_name": "Python 3",
   "language": "python",
   "name": "python3"
  },
  "language_info": {
   "codemirror_mode": {
    "name": "ipython",
    "version": 3
   },
   "file_extension": ".py",
   "mimetype": "text/x-python",
   "name": "python",
   "nbconvert_exporter": "python",
   "pygments_lexer": "ipython3",
   "version": "3.10.0"
  }
 },
 "nbformat": 4,
 "nbformat_minor": 2
}
