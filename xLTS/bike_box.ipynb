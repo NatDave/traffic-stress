{
 "cells": [
  {
   "cell_type": "code",
   "execution_count": 1,
   "metadata": {},
   "outputs": [
    {
     "name": "stdout",
     "output_type": "stream",
     "text": [
      "Updated crossings.shp with CRS_ASL attribute for bike boxes.\n",
      "There are 4 unassociated bike boxes.\n"
     ]
    }
   ],
   "source": [
    "import geopandas as gpd\n",
    "import os\n",
    "import warnings\n",
    "import ast\n",
    "\n",
    "warnings.filterwarnings(\"ignore\")\n",
    "\n",
    "# Base directory path\n",
    "base_dir = r\"C:\\Users\\natda\\Desktop\\NatDave\\Academics\\PhD_NU\\RESEARCH\\Traffic_Stress\\Boston\"\n",
    "\n",
    "# Construct file paths\n",
    "roads_path = os.path.join(base_dir, \"street_network.shp\")\n",
    "crossings_path = os.path.join(base_dir, \"crossings.shp\")\n",
    "bike_boxes_path = os.path.join(base_dir, \"osm_asl.gdb\")\n",
    "unassociated_bike_boxes_path = os.path.join(base_dir, \"unassociated_bike_boxes.shp\")\n",
    "\n",
    "# Load shapefiles\n",
    "roads = gpd.read_file(roads_path)\n",
    "crossings = gpd.read_file(crossings_path)\n",
    "bike_boxes = gpd.read_file(bike_boxes_path)\n",
    "\n",
    "# Convert CRS_LEG from string to list\n",
    "crossings['CRS_LEG'] = crossings['CRS_LEG'].apply(lambda x: ast.literal_eval(x) if isinstance(x, str) else x)\n",
    "\n",
    "# Reproject bike boxes to match roads CRS\n",
    "bike_boxes = bike_boxes.to_crs(roads.crs)\n",
    "\n",
    "# Add 'ID' column to bike boxes and assign sequential values\n",
    "bike_boxes['ID'] = range(1, len(bike_boxes) + 1)\n",
    "\n",
    "# Buffer bike boxes by 5 meters\n",
    "bike_boxes['geometry'] = bike_boxes.geometry.buffer(5)\n",
    "\n",
    "# Find road segments that intersect with bike boxes\n",
    "bike_box_roads = roads[roads.geometry.intersects(bike_boxes.unary_union)]\n",
    "bike_box_road_ids = set(bike_box_roads['unique_id'])\n",
    "\n",
    "# Create CRS_ASL column and assign 1 where a bike box exists, 0 otherwise\n",
    "crossings['CRS_ASL'] = crossings['CRS_LEG'].apply(lambda x: 1 if any(seg in bike_box_road_ids for seg in x) else 0)\n",
    "\n",
    "# Identify unassociated bike boxes (those not linked to any road segment)\n",
    "unassociated_bike_boxes = bike_boxes[~bike_boxes.intersects(bike_box_roads.unary_union)]\n",
    "\n",
    "# Save unassociated bike boxes to a new shapefile\n",
    "unassociated_bike_boxes.to_file(unassociated_bike_boxes_path, driver='ESRI Shapefile')\n",
    "\n",
    "# Save the updated crossings shapefile\n",
    "crossings.to_file(crossings_path, driver='ESRI Shapefile')\n",
    "\n",
    "print(\"Updated crossings.shp with CRS_ASL attribute for bike boxes.\")\n",
    "print(f\"There are {len(unassociated_bike_boxes)} unassociated bike boxes.\")"
   ]
  },
  {
   "cell_type": "code",
   "execution_count": 2,
   "metadata": {},
   "outputs": [
    {
     "data": {
      "text/plain": [
       "CRS_ASL\n",
       "0    40646\n",
       "1      157\n",
       "Name: count, dtype: int64"
      ]
     },
     "execution_count": 2,
     "metadata": {},
     "output_type": "execute_result"
    }
   ],
   "source": [
    "crossings['CRS_ASL'].value_counts()"
   ]
  }
 ],
 "metadata": {
  "kernelspec": {
   "display_name": "Python 3",
   "language": "python",
   "name": "python3"
  },
  "language_info": {
   "codemirror_mode": {
    "name": "ipython",
    "version": 3
   },
   "file_extension": ".py",
   "mimetype": "text/x-python",
   "name": "python",
   "nbconvert_exporter": "python",
   "pygments_lexer": "ipython3",
   "version": "3.10.0"
  }
 },
 "nbformat": 4,
 "nbformat_minor": 2
}
