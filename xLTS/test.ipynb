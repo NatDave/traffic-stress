{
 "cells": [
  {
   "cell_type": "code",
   "execution_count": 1,
   "metadata": {},
   "outputs": [],
   "source": [
    "import pandas as pd\n",
    "import geopandas as gpd\n",
    "import os\n",
    "\n",
    "# === BASE DIRECTORY ===\n",
    "base_dir = r\"C:\\Users\\natda\\OneDrive - Northeastern University\\Desktop\\NatDave\\Academics\\PhD_NU\\RESEARCH\\Traffic_Stress\\Boston\"\n",
    "\n",
    "# === FILE PATHS ===\n",
    "roads_path = os.path.join(base_dir, \"street_network.shp\")\n",
    "\n",
    "# === LOAD SHAPEFILE ===\n",
    "roads = gpd.read_file(roads_path)"
   ]
  },
  {
   "cell_type": "code",
   "execution_count": 6,
   "metadata": {},
   "outputs": [
    {
     "data": {
      "text/plain": [
       "ADT_2025\n",
       "0         2224\n",
       "599       4280\n",
       "749      10471\n",
       "751        740\n",
       "999        450\n",
       "1499        66\n",
       "1501       156\n",
       "2999       456\n",
       "3001     16088\n",
       "7999        56\n",
       "12001     1809\n",
       "Name: count, dtype: int64"
      ]
     },
     "execution_count": 6,
     "metadata": {},
     "output_type": "execute_result"
    }
   ],
   "source": [
    "roads['ADT_2025'].value_counts(dropna=False).sort_index(ascending=True)"
   ]
  },
  {
   "cell_type": "code",
   "execution_count": 7,
   "metadata": {},
   "outputs": [
    {
     "data": {
      "text/plain": [
       "ADT_Infer\n",
       "0        2224\n",
       "749     13680\n",
       "751       965\n",
       "1499      113\n",
       "1501      274\n",
       "2999      782\n",
       "3001    16893\n",
       "7999       56\n",
       "8001     1809\n",
       "Name: count, dtype: int64"
      ]
     },
     "execution_count": 7,
     "metadata": {},
     "output_type": "execute_result"
    }
   ],
   "source": [
    "roads['ADT_Infer'].value_counts(dropna=False).sort_index(ascending=True)"
   ]
  }
 ],
 "metadata": {
  "kernelspec": {
   "display_name": "Python 3",
   "language": "python",
   "name": "python3"
  },
  "language_info": {
   "codemirror_mode": {
    "name": "ipython",
    "version": 3
   },
   "file_extension": ".py",
   "mimetype": "text/x-python",
   "name": "python",
   "nbconvert_exporter": "python",
   "pygments_lexer": "ipython3",
   "version": "3.10.0"
  }
 },
 "nbformat": 4,
 "nbformat_minor": 2
}
