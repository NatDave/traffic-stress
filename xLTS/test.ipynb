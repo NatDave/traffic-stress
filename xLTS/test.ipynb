{
 "cells": [
  {
   "cell_type": "code",
   "execution_count": 3,
   "metadata": {},
   "outputs": [],
   "source": [
    "import geopandas as gpd\n",
    "import os\n",
    "\n",
    "base_dir = r\"C:\\Users\\natda\\OneDrive - Northeastern University\\Desktop\\NatDave\\Academics\\PhD_NU\\RESEARCH\\Traffic_Stress\\Boston\"\n",
    "roads_path = os.path.join(base_dir, \"street_network.shp\")\n",
    "bikes_path = os.path.join(base_dir, \"Bike_Network_Jan_2025.shp\")\n",
    "roads, bikes = gpd.read_file(roads_path), gpd.read_file(bikes_path)"
   ]
  },
  {
   "cell_type": "code",
   "execution_count": 4,
   "metadata": {},
   "outputs": [
    {
     "data": {
      "text/plain": [
       "ADT_Infer\n",
       "3001    16893\n",
       "749     13680\n",
       "0        2224\n",
       "8001     1809\n",
       "751       965\n",
       "2999      782\n",
       "1501      274\n",
       "1499      113\n",
       "7999       56\n",
       "Name: count, dtype: int64"
      ]
     },
     "execution_count": 4,
     "metadata": {},
     "output_type": "execute_result"
    }
   ],
   "source": [
    "roads['ADT_Infer'].value_counts(dropna=False)"
   ]
  }
 ],
 "metadata": {
  "kernelspec": {
   "display_name": "Python 3",
   "language": "python",
   "name": "python3"
  },
  "language_info": {
   "codemirror_mode": {
    "name": "ipython",
    "version": 3
   },
   "file_extension": ".py",
   "mimetype": "text/x-python",
   "name": "python",
   "nbconvert_exporter": "python",
   "pygments_lexer": "ipython3",
   "version": "3.10.0"
  }
 },
 "nbformat": 4,
 "nbformat_minor": 2
}
