{
 "cells": [
  {
   "cell_type": "code",
   "execution_count": 1,
   "metadata": {},
   "outputs": [],
   "source": [
    "import pandas as pd\n",
    "import geopandas as gpd\n",
    "import os\n",
    "\n",
    "# === BASE DIRECTORY ===\n",
    "base_dir = r\"C:\\Users\\natda\\OneDrive - Northeastern University\\Desktop\\NatDave\\Academics\\PhD_NU\\RESEARCH\\Traffic_Stress\\Boston\"\n",
    "\n",
    "# === FILE PATHS ===\n",
    "roads_path = os.path.join(base_dir, \"street_network.shp\")\n",
    "\n",
    "# === LOAD SHAPEFILE ===\n",
    "roads = gpd.read_file(roads_path)\n",
    "\n",
    "# === CONVERT RELEVANT COLUMNS TO NUMERIC ===\n",
    "numeric_cols = ['SPEED', 'qDirLanes2', 'qNoAccess', 'qExclude', 'BL_WIDTH', 'BL_REACH', 'PARKALONG', 'StOperNEU', 'ADT_2025', 'FEDERALFUN', 'WIDE_1WAY', 'BL_BLOCK']\n",
    "roads[numeric_cols] = roads[numeric_cols].apply(pd.to_numeric, errors='coerce')"
   ]
  },
  {
   "cell_type": "code",
   "execution_count": 2,
   "metadata": {},
   "outputs": [
    {
     "name": "stdout",
     "output_type": "stream",
     "text": [
      "LTS_2025 calculation complete.\n",
      "LTS_2025\n",
      "1    18520\n",
      "5     6278\n",
      "3     5485\n",
      "2     3363\n",
      "6     1885\n",
      "4     1265\n",
      "Name: count, dtype: int64\n"
     ]
    }
   ],
   "source": [
    "# === FUNCTION TO CALCULATE LTS_2025 ===\n",
    "def calculate_LTS_2025(row):\n",
    "    \"\"\"Calculate LTS_2025 based on road characteristics.\"\"\"\n",
    "    \n",
    "    protected = row['qProtected']\n",
    "    no_access = row['qNoAccess']\n",
    "    exclude = row['qExclude']\n",
    "    speed = row['SPEED']\n",
    "    dir_lanes = row['qDirLanes2']\n",
    "    bl_width = row['BL_WIDTH']\n",
    "    bl_reach = row['BL_REACH']\n",
    "    parkalong = row['PARKALONG']\n",
    "    # illparking = row['ILLPARKING']\n",
    "    bike_type = row['bike_type2']\n",
    "    st_oper_neu = row['StOperNEU']\n",
    "    adt = row['ADT_2025']\n",
    "    fed_fun = row['FEDERALFUN']\n",
    "    wide_oneway = row['WIDE_1WAY']\n",
    "    bl_block = row['BL_BLOCK']  \n",
    "\n",
    "    lane_infra = [\"BL\", \"BL_LEFT\", \"BL_MIX\", \"BL_BUF\", \"BL_BUF_LEFT\", \"BL_PK_BUS_BL\"]\n",
    "    sep_infra = [\"SUP\", \"SUP_NAT\", \"SUP_MINOR\", \"SBL\", \"SBL_LEFT\", \"SBL_BL\", \"SBL_MIX\", \"CARFREE\"]\n",
    "    mix_infra = [\"MIX_CONTRA\", \"MIX_SCONTRA\", \"BUS_BL\", \"BUS_BL_LEFT\", \"SLM\", \"SLMTC\"]\n",
    "\n",
    "\n",
    "    if no_access in (1, 98, 99):\n",
    "        return 6  # freeway (ramps)\n",
    "    elif exclude in (1, 5) or (bike_type and bike_type in (\"WALK_YR_BIKE\")):\n",
    "        return 5  # cemetary, private property, peds only, etc.\n",
    "    elif fed_fun == 0:\n",
    "        return 1  # Parks, alleys, bike paths, streets with almost no traffic\n",
    "    elif bike_type in sep_infra:\n",
    "        return 1  # Separated from traffic\n",
    "    elif protected == 1:\n",
    "        return 1 # Separated from traffic\n",
    "    \n",
    "\n",
    "    elif ((bl_width >= 4) or bike_type in lane_infra) and (parkalong == 0):\n",
    "        # Conventional bike lanes not adjacent to parking\n",
    "        if (\n",
    "            (dir_lanes >= 3 and speed > 38.5) or \n",
    "            (dir_lanes == 2 and speed > 43.5 and bl_width < 6) or\n",
    "            (dir_lanes <= 1 and speed > 48.5 and bl_width < 6)\n",
    "        ):\n",
    "            return 4\n",
    "        elif (dir_lanes >= 3) or (speed > 38.5):\n",
    "            return 3\n",
    "        elif (\n",
    "            (dir_lanes == 2) or\n",
    "            (speed > 33.5) or\n",
    "            (dir_lanes <= 1 and bl_width < 6) or\n",
    "            (dir_lanes <= 1 and speed > 28.5)\n",
    "        ):\n",
    "            return 2\n",
    "        elif (dir_lanes <= 1 and bl_width >= 6):\n",
    "            return 1\n",
    "        else:\n",
    "            return 98 # For other cases that do not meet conditions\n",
    "\n",
    "\n",
    "    elif (bl_width >= 4 or bike_type in lane_infra) and (parkalong == 1): # and (bl_reach >= 12):\n",
    "        # Conventional bike lanes adjacent to parking\n",
    "        if (dir_lanes <= 1 and speed <= 28.5 and bl_reach >= 15):\n",
    "            return 1\n",
    "        elif (\n",
    "            (dir_lanes <= 1 and speed <= 38.5 and bl_reach >= 15) or\n",
    "            (dir_lanes <= 1 and speed <= 33.5 and bl_reach < 15) or\n",
    "            (dir_lanes >= 2 and st_oper_neu == 1 and speed <= 28.5 and bl_reach >= 15) or\n",
    "            (dir_lanes == 2 and speed <= 28.5 and bl_reach >= 15)\n",
    "        ):\n",
    "            return 2\n",
    "        else:\n",
    "            return 3\n",
    "\n",
    "\n",
    "    elif (\n",
    "        (bl_width < 4) or \n",
    "        ((bl_width >= 4) and (bl_block == 1)) or \n",
    "        ((bl_width >= 4) and (parkalong > 0) and (bl_reach < 12)) or\n",
    "        bike_type in mix_infra\n",
    "    ):\n",
    "        # Mixed traffic conditions\n",
    "        if (\n",
    "            # 3+ thru lanes per direction\n",
    "            (dir_lanes >= 3 and speed > 28.5) or\n",
    "\n",
    "            # 2 thru lanes per direction\n",
    "            (dir_lanes == 2 and adt > 8_000 and speed > 28.5) or \n",
    "            (dir_lanes == 2 and adt <= 8_000 and speed > 38.5) or\n",
    "\n",
    "            # Narrow one-way single-lane street\n",
    "            (dir_lanes <= 1 and st_oper_neu == 1 and adt > 1_000 and speed > 38.5) or\n",
    "            (dir_lanes <= 1 and st_oper_neu == 1 and adt > 600 and speed > 43.5) or\n",
    "\n",
    "            # Two-way 1+1 per direction with CL or wide one-way street\n",
    "            ((dir_lanes == 1 or wide_oneway == 1) and adt > 1_500 and speed > 38.5) or\n",
    "            ((dir_lanes == 1 or wide_oneway == 1) and adt > 1_000 and speed > 43.5) or\n",
    "\n",
    "            # Unlaned two-way streets\n",
    "            (dir_lanes == 0 and adt > 3_000 and speed > 38.5) or\n",
    "            (dir_lanes == 0 and adt > 1_500 and speed > 43.5)\n",
    "        ):\n",
    "            return 4\n",
    "\n",
    "        elif (\n",
    "            # 2+ thru lanes per direction\n",
    "            dir_lanes >= 2 or\n",
    "\n",
    "            # Narrow one-way single-lane street\n",
    "            (dir_lanes <= 1 and st_oper_neu == 1 and adt > 1_000 and speed > 23.5) or\n",
    "            (dir_lanes <= 1 and st_oper_neu == 1 and adt > 600 and speed > 33.5) or\n",
    "            (dir_lanes <= 1 and st_oper_neu == 1 and speed > 38.5) or\n",
    "\n",
    "            # Two-way 1+1 per direction with CL or wide one-way street\n",
    "            ((dir_lanes == 1 or wide_oneway == 1) and adt > 1_500 and speed > 23.5) or\n",
    "            ((dir_lanes == 1 or wide_oneway == 1) and adt > 1_000 and speed > 33.5) or\n",
    "            ((dir_lanes == 1 or wide_oneway == 1) and speed > 38.5) or\n",
    "\n",
    "            # Unlaned two-way streets\n",
    "            (dir_lanes == 0 and adt > 3_000 and speed > 28.5) or\n",
    "            (dir_lanes == 0 and adt > 750 and speed > 33.5) or\n",
    "            (dir_lanes == 0 and speed > 38.5)\n",
    "        ):\n",
    "            return 3\n",
    "\n",
    "        elif (\n",
    "            # Narrow one-way single-lane street\n",
    "            (dir_lanes <= 1 and st_oper_neu == 1 and adt > 600) or\n",
    "            (dir_lanes <= 1 and st_oper_neu == 1 and speed > 28.5) or\n",
    "\n",
    "            # Two-way 1+1 per direction with CL or wide one-way street\n",
    "            ((dir_lanes == 1 or wide_oneway == 1) and adt > 1_000) or\n",
    "            ((dir_lanes == 1 or wide_oneway == 1) and speed > 28.5) or\n",
    "\n",
    "            # Unlaned two-way streets\n",
    "            (dir_lanes == 0 and adt > 1_500) or\n",
    "            (dir_lanes == 0 and speed > 28.5)\n",
    "        ):\n",
    "            return 2\n",
    "\n",
    "        elif (\n",
    "            # Narrow one-way single-lane street\n",
    "            (dir_lanes <= 1 and st_oper_neu == 1) or\n",
    "\n",
    "            # Two-way 1+1 per direction with CL or wide one-way street\n",
    "            (dir_lanes == 1 or wide_oneway == 1) or\n",
    "\n",
    "            # Unlaned two-way streets\n",
    "            dir_lanes == 0\n",
    "        ):\n",
    "            return 1\n",
    "        else:\n",
    "            return 99  # For other cases that do not meet conditions\n",
    "\n",
    "    else:\n",
    "        return 96  # Default return for other cases\n",
    "\n",
    "# === CALCULATE LTS_2025 FOR ROADS ===\n",
    "roads['LTS_2025'] = roads.apply(calculate_LTS_2025, axis=1)\n",
    "\n",
    "# === SAVE THE UPDATED ROADS SHAPEFILE ===\n",
    "roads.to_file(roads_path, driver=\"ESRI Shapefile\")\n",
    " \n",
    "# Output summary\n",
    "print(\"LTS_2025 calculation complete.\")\n",
    "print(roads['LTS_2025'].value_counts(dropna=False))"
   ]
  },
  {
   "cell_type": "code",
   "execution_count": 3,
   "metadata": {},
   "outputs": [
    {
     "data": {
      "text/plain": [
       "LTS_2018\n",
       "1    17648\n",
       "3     7140\n",
       "5     6055\n",
       "2     2186\n",
       "6     1839\n",
       "4     1682\n",
       "0      246\n",
       "Name: count, dtype: int64"
      ]
     },
     "execution_count": 3,
     "metadata": {},
     "output_type": "execute_result"
    }
   ],
   "source": [
    "roads['LTS_2018'].value_counts(dropna=False)"
   ]
  },
  {
   "cell_type": "code",
   "execution_count": 4,
   "metadata": {},
   "outputs": [
    {
     "name": "stdout",
     "output_type": "stream",
     "text": [
      "['qLTS', 'qLTS_Retn', 'qLTS_Own', 'LTS2006', 'LTS2014', 'LTSEmerald', 'LTSBForE', 'LTS_DT_Imp', 'LTS_DT_BE', 'LTS_DT_Col', 'LTS_Colum', 'LTS_All_Im', 'LTS_2017', 'LTS_2018', 'LTS_2025', 'LTS_2025b', 'LTS_DIFF']\n"
     ]
    }
   ],
   "source": [
    "# Assuming roads is your GeoDataFrame\n",
    "lts_columns = [col for col in roads.columns if \"LTS\" in col]\n",
    "print(lts_columns)"
   ]
  },
  {
   "cell_type": "code",
   "execution_count": 5,
   "metadata": {},
   "outputs": [
    {
     "name": "stdout",
     "output_type": "stream",
     "text": [
      "\n",
      "General Summary:\n",
      "Cases where Theja > NatDave: 2755\n",
      "Cases where Theja = NatDave: 25300\n",
      "Cases where Theja < NatDave: 532\n",
      "\n",
      "Detailed Breakdown:\n",
      "\n",
      "Cases where Theja > NatDave:\n",
      "Theja says 2 but NatDave says 1: 297\n",
      "Theja says 3 but NatDave says 1: 633\n",
      "Theja says 4 but NatDave says 1: 243\n",
      "Theja says 3 but NatDave says 2: 1261\n",
      "Theja says 4 but NatDave says 2: 82\n",
      "Theja says 4 but NatDave says 3: 239\n",
      "\n",
      "Cases where Theja = NatDave:\n",
      "Theja says 1 but NatDave says 1: 17303\n",
      "Theja says 2 but NatDave says 2: 1784\n",
      "Theja says 3 but NatDave says 3: 5095\n",
      "Theja says 4 but NatDave says 4: 1118\n",
      "\n",
      "Cases where Theja < NatDave:\n",
      "Theja says 1 but NatDave says 2: 236\n",
      "Theja says 1 but NatDave says 3: 44\n",
      "Theja says 2 but NatDave says 3: 105\n",
      "Theja says 3 but NatDave says 4: 147\n"
     ]
    }
   ],
   "source": [
    "# Filter rows with valid LTS values\n",
    "valid_values = {1, 2, 3, 4}\n",
    "filtered_rows = roads[roads[\"LTS_2018\"].isin(valid_values) & roads[\"LTS_2025\"].isin(valid_values)]\n",
    "\n",
    "# Count instances for different conditions\n",
    "cases_2018_gt_2025 = (filtered_rows[\"LTS_2018\"] > filtered_rows[\"LTS_2025\"]).sum()\n",
    "cases_2018_eq_2025 = (filtered_rows[\"LTS_2018\"] == filtered_rows[\"LTS_2025\"]).sum()\n",
    "cases_2018_lt_2025 = (filtered_rows[\"LTS_2018\"] < filtered_rows[\"LTS_2025\"]).sum()\n",
    "\n",
    "# Calculate transitions\n",
    "breakdown = {}\n",
    "for lts_2025, lts_2018 in [(1, 1), (2, 2), (3, 3), (4, 4), \n",
    "                           (1, 2), (1, 3), (1, 4), (2, 1), (2, 3), (2, 4), \n",
    "                           (3, 1), (3, 2), (3, 4), (4, 1), (4, 2), (4, 3)]:\n",
    "    count = ((filtered_rows[\"LTS_2018\"] == lts_2018) & (filtered_rows[\"LTS_2025\"] == lts_2025)).sum()\n",
    "    breakdown[(lts_2025, lts_2018)] = count\n",
    "\n",
    "# Print general summary\n",
    "print(\"\\nGeneral Summary:\")\n",
    "print(f\"Cases where Theja > NatDave: {cases_2018_gt_2025}\")\n",
    "print(f\"Cases where Theja = NatDave: {cases_2018_eq_2025}\")\n",
    "print(f\"Cases where Theja < NatDave: {cases_2018_lt_2025}\")\n",
    "\n",
    "# Print results\n",
    "print(\"\\nDetailed Breakdown:\")\n",
    "\n",
    "if cases_2018_gt_2025:\n",
    "    print(\"\\nCases where Theja > NatDave:\")\n",
    "    for (lts_2025, lts_2018), count in breakdown.items():\n",
    "        if lts_2018 > lts_2025 and count > 0:\n",
    "            print(f\"Theja says {lts_2018} but NatDave says {lts_2025}: {count}\")\n",
    "\n",
    "if cases_2018_eq_2025:\n",
    "    print(\"\\nCases where Theja = NatDave:\")\n",
    "    for (lts_2025, lts_2018), count in breakdown.items():\n",
    "        if lts_2018 == lts_2025 and count > 0:\n",
    "            print(f\"Theja says {lts_2018} but NatDave says {lts_2025}: {count}\")\n",
    "\n",
    "if cases_2018_lt_2025:\n",
    "    print(\"\\nCases where Theja < NatDave:\")\n",
    "    for (lts_2025, lts_2018), count in breakdown.items():\n",
    "        if lts_2018 < lts_2025 and count > 0:\n",
    "            print(f\"Theja says {lts_2018} but NatDave says {lts_2025}: {count}\")"
   ]
  },
  {
   "cell_type": "code",
   "execution_count": 6,
   "metadata": {},
   "outputs": [
    {
     "name": "stdout",
     "output_type": "stream",
     "text": [
      "Number of differing rows: 3287 out of 36796\n",
      "Proportion of differing rows: 8.93%\n"
     ]
    }
   ],
   "source": [
    "# Check where the values are not the same\n",
    "diff_mask = filtered_rows[\"LTS_2018\"] != filtered_rows[\"LTS_2025\"]\n",
    "# Count the number of instances where the values differ\n",
    "num_diff = diff_mask.sum()\n",
    "\n",
    "# Calculate the proportion of differing values\n",
    "proportion_diff = num_diff / len(roads)\n",
    "\n",
    "# Print results\n",
    "print(f\"Number of differing rows: {num_diff} out of {len(roads)}\")\n",
    "print(f\"Proportion of differing rows: {proportion_diff:.2%}\")"
   ]
  },
  {
   "cell_type": "code",
   "execution_count": 7,
   "metadata": {},
   "outputs": [
    {
     "name": "stdout",
     "output_type": "stream",
     "text": [
      "Total miles for each LTS_2025 value:\n",
      "LTS_2025\n",
      "1    1024.516950\n",
      "2     165.565144\n",
      "3     263.471136\n",
      "4      72.191847\n",
      "5     316.075461\n",
      "6     124.071922\n",
      "Name: LENGTH_MILES, dtype: float64\n"
     ]
    }
   ],
   "source": [
    "# Calculate road lengths in meters\n",
    "roads[\"LENGTH_METERS\"] = roads.geometry.length\n",
    "\n",
    "# Convert lengths to miles\n",
    "roads[\"LENGTH_MILES\"] = roads[\"LENGTH_METERS\"] * 0.000621371\n",
    "\n",
    "# Calculate total miles for each LTS_2025 value\n",
    "lts_miles = roads.groupby(\"LTS_2025\")[\"LENGTH_MILES\"].sum()\n",
    "\n",
    "# Print the results\n",
    "print(\"Total miles for each LTS_2025 value:\")\n",
    "print(lts_miles)"
   ]
  },
  {
   "cell_type": "code",
   "execution_count": 8,
   "metadata": {},
   "outputs": [
    {
     "data": {
      "text/plain": [
       "1965.8924581837405"
      ]
     },
     "execution_count": 8,
     "metadata": {},
     "output_type": "execute_result"
    }
   ],
   "source": [
    "roads[\"LENGTH_MILES\"].sum()"
   ]
  },
  {
   "cell_type": "code",
   "execution_count": 9,
   "metadata": {},
   "outputs": [
    {
     "name": "stdout",
     "output_type": "stream",
     "text": [
      "Total length in miles where LTS_2025 < LTS_2018: 126.1962324304479\n"
     ]
    }
   ],
   "source": [
    "# Filter rows where LTS_2025 < LTS_2018\n",
    "improve = roads[roads[\"LTS_2025\"] < roads[\"LTS_2018\"]]\n",
    "\n",
    "# Calculate the total length in miles\n",
    "total_length_miles = improve[\"LENGTH_MILES\"].sum()\n",
    "\n",
    "# Print the result\n",
    "print(f\"Total length in miles where LTS_2025 < LTS_2018: {total_length_miles}\")"
   ]
  },
  {
   "cell_type": "code",
   "execution_count": 10,
   "metadata": {},
   "outputs": [
    {
     "data": {
      "text/plain": [
       "SPEED\n",
       "30    19483\n",
       "25    15352\n",
       "35     1176\n",
       "40      285\n",
       "0       246\n",
       "20      235\n",
       "15       15\n",
       "27        4\n",
       "Name: count, dtype: int64"
      ]
     },
     "execution_count": 10,
     "metadata": {},
     "output_type": "execute_result"
    }
   ],
   "source": [
    "roads['SPEED'].value_counts(dropna=False)"
   ]
  }
 ],
 "metadata": {
  "kernelspec": {
   "display_name": "Python 3",
   "language": "python",
   "name": "python3"
  },
  "language_info": {
   "codemirror_mode": {
    "name": "ipython",
    "version": 3
   },
   "file_extension": ".py",
   "mimetype": "text/x-python",
   "name": "python",
   "nbconvert_exporter": "python",
   "pygments_lexer": "ipython3",
   "version": "3.10.0"
  }
 },
 "nbformat": 4,
 "nbformat_minor": 2
}
