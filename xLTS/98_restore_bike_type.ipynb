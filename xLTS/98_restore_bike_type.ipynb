{
 "cells": [
  {
   "cell_type": "code",
   "execution_count": null,
   "metadata": {},
   "outputs": [
    {
     "data": {
      "text/plain": [
       "bike_type                   \n",
       "0                               16465\n",
       "NaN                             10145\n",
       "Off-Road Path                    5212\n",
       "Proposed                         2774\n",
       "Bike Lane                        1186\n",
       "Sharrow                           626\n",
       "Buffered Bike                     274\n",
       "Bus bike lane                      46\n",
       "Walk only                          20\n",
       "Priority share                     18\n",
       "Cycletrack- bike lane hybrid       13\n",
       "Cycle track                         6\n",
       "Climbing lane                       4\n",
       "climbing lane                       3\n",
       "pocket_LTS3                         3\n",
       "Bike Lane one side                  1\n",
       "Name: count, dtype: int64"
      ]
     },
     "execution_count": 1,
     "metadata": {},
     "output_type": "execute_result"
    }
   ],
   "source": [
    "import geopandas as gpd\n",
    "import os\n",
    "from rtree import index\n",
    "\n",
    "# === PATHS ===\n",
    "base_dir = r\"C:\\Users\\natda\\OneDrive - Northeastern University\\Desktop\\NatDave\\Academics\\PhD_NU\\RESEARCH\\Traffic_Stress\\Boston\"\n",
    "roads_path_1 = os.path.join(base_dir, \"street_network.shp\")\n",
    "roads_path_2 = os.path.join(base_dir, \"boston_streets.shp\")\n",
    "\n",
    "# === LOAD AND PREPARE DATA ===\n",
    "roads1 = gpd.read_file(roads_path_1)\n",
    "roads2 = gpd.read_file(roads_path_2)\n",
    "\n",
    "# === BUILD SPATIAL INDEX FOR ROADS2 ===\n",
    "idx = index.Index()\n",
    "for i, geom in enumerate(roads2.geometry):\n",
    "    idx.insert(i, geom.bounds)\n",
    "\n",
    "# === FIND MATCHING GEOMETRIES AND ASSIGN BIKE_TYPE ===\n",
    "def get_bike_type(geom, idx, roads2):\n",
    "    candidates = [i for i in idx.intersection(geom.bounds)]\n",
    "    for i in candidates:\n",
    "        if geom.equals_exact(roads2.geometry.iloc[i], tolerance=100):\n",
    "            return roads2.iloc[i]['bike_type']  # Return the bike_type of the matched geometry\n",
    "    return None  # If no match is found, return None\n",
    "\n",
    "# Assign bike_type values from roads2 to roads1 based on matching geometries\n",
    "roads1['bike_type'] = roads1.geometry.apply(lambda g: get_bike_type(g, idx, roads2))\n",
    "\n",
    "roads1[['bike_type']].value_counts(dropna=False)"
   ]
  },
  {
   "cell_type": "code",
   "execution_count": 2,
   "metadata": {},
   "outputs": [
    {
     "data": {
      "text/plain": [
       "bike_type                   \n",
       "0                               17578\n",
       "NaN                              7550\n",
       "Off-Road Path                    6603\n",
       "Proposed                         2854\n",
       "Bike Lane                        1226\n",
       "Sharrow                           659\n",
       "Buffered Bike                     262\n",
       "Bus bike lane                      42\n",
       "Walk only                          25\n",
       "Priority share                     19\n",
       "Cycletrack- bike lane hybrid       14\n",
       "Cycle track                         9\n",
       "pocket_LTS3                         6\n",
       "Climbing lane                       5\n",
       "Bike Lane one side                  2\n",
       "climbing lane                       2\n",
       "Buffered bike                       1\n",
       "Pocket lane                         1\n",
       "Name: count, dtype: int64"
      ]
     },
     "execution_count": 2,
     "metadata": {},
     "output_type": "execute_result"
    }
   ],
   "source": [
    "roads2[['bike_type']].value_counts(dropna=False)"
   ]
  },
  {
   "cell_type": "code",
   "execution_count": 4,
   "metadata": {},
   "outputs": [],
   "source": [
    "# Save the updated crossings shapefile\n",
    "roads1.to_file(roads_path_1, driver='ESRI Shapefile')"
   ]
  }
 ],
 "metadata": {
  "kernelspec": {
   "display_name": "Python 3",
   "language": "python",
   "name": "python3"
  },
  "language_info": {
   "codemirror_mode": {
    "name": "ipython",
    "version": 3
   },
   "file_extension": ".py",
   "mimetype": "text/x-python",
   "name": "python",
   "nbconvert_exporter": "python",
   "pygments_lexer": "ipython3",
   "version": "3.10.0"
  }
 },
 "nbformat": 4,
 "nbformat_minor": 2
}
