{
 "cells": [
  {
   "cell_type": "code",
   "execution_count": null,
   "metadata": {},
   "outputs": [
    {
     "name": "stdout",
     "output_type": "stream",
     "text": [
      "Updated crossings.shp with speed limit, bike type, StOperNEU, functional classifications, ADT, and number of lanes.\n",
      "CROSS_DIST column initialized for future population.\n"
     ]
    }
   ],
   "source": [
    "import geopandas as gpd\n",
    "import os\n",
    "import warnings\n",
    "import ast\n",
    "\n",
    "warnings.filterwarnings(\"ignore\")\n",
    "\n",
    "# Base directory path\n",
    "base_dir = r\"C:\\Users\\natda\\Desktop\\NatDave\\Academics\\PhD_NU\\RESEARCH\\Traffic_Stress\\Boston\"\n",
    "\n",
    "# Construct file paths\n",
    "roads_path = os.path.join(base_dir, \"street_network.shp\")\n",
    "crossings_path = os.path.join(base_dir, \"crossings.shp\")\n",
    "\n",
    "# Load shapefiles\n",
    "roads = gpd.read_file(roads_path)\n",
    "crossings = gpd.read_file(crossings_path)\n",
    "\n",
    "# Convert FRM_LEG, TO_LEG, and CRS_LEG from string to list\n",
    "crossings['FRM_LEG'] = crossings['FRM_LEG'].apply(ast.literal_eval)\n",
    "crossings['TO_LEG'] = crossings['TO_LEG'].apply(ast.literal_eval)\n",
    "crossings['CRS_LEG'] = crossings['CRS_LEG'].apply(ast.literal_eval)\n",
    "\n",
    "# Create mapping dictionaries from the street network\n",
    "bike_type_dict = roads.set_index('unique_id')['bike_type'].to_dict()\n",
    "stoperneu_dict = roads.set_index('unique_id')['StOperNEU'].to_dict()\n",
    "federalfun_dict = roads.set_index('unique_id')['FEDERALFUN'].to_dict()\n",
    "adt_infer_dict = roads.set_index('unique_id')['ADT_Infer'].to_dict()\n",
    "qdirlanes_dict = roads.set_index('unique_id')['qDirLanes'].to_dict()\n",
    "speed_dict = roads.set_index('unique_id')['SPEED'].to_dict()\n",
    "\n",
    "# Function to get first element value from mapping dictionary\n",
    "def get_first_leg_value(leg_list, mapping_dict):\n",
    "    if leg_list:\n",
    "        return mapping_dict.get(leg_list[0], \"\")  # Leave empty if no match\n",
    "    return \"\"\n",
    "\n",
    "# Assign values based on first element in FRM_LEG, TO_LEG, and CRS_LEG\n",
    "crossings['FR_BK_TYPE'] = crossings['FRM_LEG'].apply(lambda x: get_first_leg_value(x, bike_type_dict))\n",
    "crossings['TO_BK_TYPE'] = crossings['TO_LEG'].apply(lambda x: get_first_leg_value(x, bike_type_dict))\n",
    "\n",
    "crossings['FR_StOpNU'] = crossings['FRM_LEG'].apply(lambda x: get_first_leg_value(x, stoperneu_dict))\n",
    "crossings['TO_StOpNU'] = crossings['TO_LEG'].apply(lambda x: get_first_leg_value(x, stoperneu_dict))\n",
    "\n",
    "crossings['FR_CLASS'] = crossings['FRM_LEG'].apply(lambda x: get_first_leg_value(x, federalfun_dict))\n",
    "crossings['TO_CLASS'] = crossings['TO_LEG'].apply(lambda x: get_first_leg_value(x, federalfun_dict))\n",
    "\n",
    "crossings['CRS_ADT'] = crossings['CRS_LEG'].apply(lambda x: get_first_leg_value(x, adt_infer_dict))\n",
    "crossings['CRS_LANES'] = crossings['CRS_LEG'].apply(lambda x: get_first_leg_value(x, qdirlanes_dict))\n",
    "\n",
    "crossings['CRS_SPEED'] = crossings['CRS_LEG'].apply(lambda x: get_first_leg_value(x, speed_dict))\n",
    "\n",
    "# Create empty columns to be populated later\n",
    "crossings['CROSS_DIST'] = None              # crossing distance (> 100 ft)\n",
    "crossings['FREEWAY_RAMP'] = None            # freeway ramp (on/off)\n",
    "\n",
    "# Save the updated crossings shapefile\n",
    "crossings.to_file(crossings_path, driver='ESRI Shapefile')\n",
    "\n",
    "print(\"Updated crossings.shp with speed limit, bike type, StOperNEU, functional classifications, ADT, and number of lanes.\")\n",
    "print(\"CROSS_DIST column initialized for future population.\")"
   ]
  }
 ],
 "metadata": {
  "kernelspec": {
   "display_name": "Python 3",
   "language": "python",
   "name": "python3"
  },
  "language_info": {
   "codemirror_mode": {
    "name": "ipython",
    "version": 3
   },
   "file_extension": ".py",
   "mimetype": "text/x-python",
   "name": "python",
   "nbconvert_exporter": "python",
   "pygments_lexer": "ipython3",
   "version": "3.10.0"
  }
 },
 "nbformat": 4,
 "nbformat_minor": 4
}
