{
 "cells": [
  {
   "cell_type": "code",
   "execution_count": null,
   "metadata": {},
   "outputs": [
    {
     "name": "stdout",
     "output_type": "stream",
     "text": [
      "Saved 133 bike segments with < 15.0% shared length.\n"
     ]
    }
   ],
   "source": [
    "import geopandas as gpd\n",
    "import os\n",
    "\n",
    "# === PATHS ===\n",
    "base_dir = r\"C:\\Users\\natda\\OneDrive - Northeastern University\\Desktop\\NatDave\\Academics\\PhD_NU\\RESEARCH\\Traffic_Stress\\Boston\"\n",
    "roads_path = os.path.join(base_dir, \"street_network.shp\")\n",
    "bikes_path = os.path.join(base_dir, \"Bike_Network_Jan_2025.shp\")\n",
    "\n",
    "# === PARAMETERS ===\n",
    "BIKE_BUF = 5        # Expand bike lanes by a buffer (for calc. only)\n",
    "OLAP_LEN = 0.15     # Min % of bike lane that must overlap a road\n",
    "\n",
    "# === LOAD AND PREPARE DATA ===\n",
    "roads, bikes = gpd.read_file(roads_path), gpd.read_file(bikes_path)\n",
    "bikes = bikes.to_crs(roads.crs).dropna(subset=[\"geometry\"])\n",
    "roads = roads.dropna(subset=[\"geometry\"])\n",
    "bikes[\"buffered_geom\"] = bikes.geometry.buffer(BIKE_BUF)\n",
    "roads_sindex = roads.sindex\n",
    "\n",
    "# === FUNCTIONS ===\n",
    "def check_road_olap(bike_geom):\n",
    "    \"\"\"\n",
    "    Determines if a bike lane has major overlap with roads.\n",
    "    \"\"\"\n",
    "    if bike_geom is None or bike_geom.is_empty: return False\n",
    "    candidates = roads.iloc[list(roads_sindex.intersection(bike_geom.bounds))]\n",
    "    if candidates.empty: return False\n",
    "    shared_len = bike_geom.intersection(candidates.geometry.union_all()).length\n",
    "    return shared_len / bike_geom.length >= OLAP_LEN\n",
    "\n",
    "def find_overlapping_road_ids(bike_geom):\n",
    "    \"\"\"\n",
    "    Finds IDs of road segments that overlap with the bike segment's buffered region.\n",
    "    \"\"\"\n",
    "    if bike_geom is None or bike_geom.is_empty: return []\n",
    "    candidates = roads.iloc[list(roads_sindex.intersection(bike_geom.bounds))]\n",
    "    overlapping_ids = [\n",
    "        road[\"unique_id\"]\n",
    "        for _, road in candidates.iterrows()\n",
    "        if bike_geom.intersection(road.geometry).length / bike_geom.length >= OLAP_LEN\n",
    "    ]\n",
    "    return overlapping_ids\n",
    "\n",
    "\n",
    "# === DICTIONARY OF BIKE-ROAD OVERLAPS ===\n",
    "bike_road_overlap_dict = {}\n",
    "\n",
    "# Iterate through bike segments and populate the dictionary\n",
    "for _, bike in bikes.iterrows():\n",
    "    bike_id = bike[\"unique_id\"]\n",
    "    overlapping_road_ids = find_overlapping_road_ids(bike[\"buffered_geom\"])\n",
    "    bike_road_overlap_dict[bike_id] = overlapping_road_ids\n",
    "\n",
    "# === FILTER NON-OVERLAPPING BIKE SEGMENTS ===\n",
    "bikes[\"olap_flag\"] = bikes[\"buffered_geom\"].apply(check_road_olap)\n",
    "bikes_no_olap = bikes[~bikes[\"olap_flag\"]].copy()\n",
    "bikes_no_olap[\"geometry\"] = bikes.loc[bikes_no_olap.index, \"geometry\"]\n",
    "bikes_no_olap = bikes_no_olap.drop(columns=[\"buffered_geom\"])\n",
    "\n",
    "# === SAVE OUTPUT ===\n",
    "output_path = os.path.join(base_dir, \"bikes_no_olap.shp\")\n",
    "bikes_no_olap.to_file(output_path, driver=\"ESRI Shapefile\")\n",
    "print(f\"Saved {len(bikes_no_olap)} bike segments with < {OLAP_LEN * 100}% shared length.\")"
   ]
  },
  {
   "cell_type": "code",
   "execution_count": 2,
   "metadata": {},
   "outputs": [
    {
     "data": {
      "text/plain": [
       "[17581, 18472]"
      ]
     },
     "execution_count": 2,
     "metadata": {},
     "output_type": "execute_result"
    }
   ],
   "source": [
    "# Neponset River Trail\n",
    "bike_road_overlap_dict[3007]"
   ]
  },
  {
   "cell_type": "code",
   "execution_count": 3,
   "metadata": {},
   "outputs": [
    {
     "data": {
      "text/plain": [
       "[]"
      ]
     },
     "execution_count": 3,
     "metadata": {},
     "output_type": "execute_result"
    }
   ],
   "source": [
    "# University Dr\n",
    "bike_road_overlap_dict[3381]"
   ]
  },
  {
   "cell_type": "code",
   "execution_count": 4,
   "metadata": {},
   "outputs": [
    {
     "data": {
      "text/plain": [
       "[]"
      ]
     },
     "execution_count": 4,
     "metadata": {},
     "output_type": "execute_result"
    }
   ],
   "source": [
    "# NEU footbridge\n",
    "bike_road_overlap_dict[3468]"
   ]
  },
  {
   "cell_type": "code",
   "execution_count": 5,
   "metadata": {},
   "outputs": [],
   "source": [
    "# === INITIALIZE bike_type2 COLUMN IN ROADS DATAFRAME ===\n",
    "roads[\"bike_type2\"] = None\n",
    "\n",
    "# === FUNCTION TO ASSIGN bike_type2 BASED ON OVERLAP ===\n",
    "def assign_bike_type_to_roads():\n",
    "    \"\"\"Populates the 'bike_type2' column in the roads DataFrame based on overlap with bike lanes.\"\"\"\n",
    "    for bike_id, overlapping_road_ids in bike_road_overlap_dict.items():\n",
    "        # Find the ExisFacil value for the current bike segment\n",
    "        bike_exisfacil_value = bikes.loc[bikes[\"unique_id\"] == bike_id, \"ExisFacil\"].values\n",
    "        if bike_exisfacil_value.size == 0:\n",
    "            continue  # Skip if no ExisFacil value is found for the bike segment\n",
    "\n",
    "        # Assign the ExisFacil value to the corresponding road segments in the 'bike_type2' column\n",
    "        for road_id in overlapping_road_ids:\n",
    "            roads.loc[roads[\"unique_id\"] == road_id, \"bike_type2\"] = bike_exisfacil_value[0]\n",
    "\n",
    "# === ASSIGN bike_type2 VALUES TO ROADS BASED ON OVERLAP ===\n",
    "assign_bike_type_to_roads()\n",
    "\n",
    "# === SAVE THE UPDATED ROADS SHAPEFILE ===\n",
    "roads.to_file(roads_path, driver=\"ESRI Shapefile\")"
   ]
  },
  {
   "cell_type": "code",
   "execution_count": 6,
   "metadata": {},
   "outputs": [
    {
     "data": {
      "text/plain": [
       "3418"
      ]
     },
     "execution_count": 6,
     "metadata": {},
     "output_type": "execute_result"
    }
   ],
   "source": [
    "roads[\"bike_type2\"].notna().sum()"
   ]
  }
 ],
 "metadata": {
  "kernelspec": {
   "display_name": "Python 3",
   "language": "python",
   "name": "python3"
  },
  "language_info": {
   "codemirror_mode": {
    "name": "ipython",
    "version": 3
   },
   "file_extension": ".py",
   "mimetype": "text/x-python",
   "name": "python",
   "nbconvert_exporter": "python",
   "pygments_lexer": "ipython3",
   "version": "3.10.0"
  }
 },
 "nbformat": 4,
 "nbformat_minor": 2
}
