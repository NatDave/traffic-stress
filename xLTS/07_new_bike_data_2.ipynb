{
 "cells": [
  {
   "cell_type": "code",
   "execution_count": null,
   "metadata": {},
   "outputs": [],
   "source": [
    "import geopandas as gpd\n",
    "import os\n",
    "\n",
    "# === PATHS ===\n",
    "base_dir = r\"C:\\Users\\natda\\OneDrive - Northeastern University\\Desktop\\NatDave\\Academics\\PhD_NU\\RESEARCH\\Traffic_Stress\\Boston\"\n",
    "roads_path = os.path.join(base_dir, \"street_network.shp\")\n",
    "bikes_path = os.path.join(base_dir, \"Bike_Network_Jan_2025.shp\")\n",
    "output_path = os.path.join(base_dir, \"bikes_no_olap.shp\")\n",
    "\n",
    "# === PARAMETERS ===\n",
    "BIKE_BUF = 3          # Expand bike lanes by a buffer (for calc. only)\n",
    "MIN_OVERLAP = 0.20    # Min % of road segment length that must overlap a bike buffer\n",
    "\n",
    "# === LOAD AND PREPARE DATA ===\n",
    "roads, bikes = gpd.read_file(roads_path), gpd.read_file(bikes_path)\n",
    "bikes = bikes.to_crs(roads.crs).dropna(subset=[\"geometry\"])\n",
    "roads = roads.dropna(subset=[\"geometry\"])\n",
    "bikes[\"buffered_geom\"] = bikes.geometry.buffer(BIKE_BUF)\n",
    "\n",
    "# Spatial indexing for efficient overlap checks\n",
    "roads_sindex = roads.sindex\n",
    "bikes_sindex = bikes.sindex"
   ]
  },
  {
   "cell_type": "code",
   "execution_count": 2,
   "metadata": {},
   "outputs": [],
   "source": [
    "# Create ExisFacil2 column based on ExisFacil with specified replacements\n",
    "bikes[\"ExisFacil2\"] = bikes[\"ExisFacil\"].replace({\n",
    "    \"SUPN\": \"SUP_NAT\",\n",
    "    \"SUPM\": \"SUP_MINOR\",\n",
    "    \"BL-PEAKBUS\": \"BL_PK_BUS_BL\",\n",
    "    \"BFBL\": \"BL_BUF\",\n",
    "    \"CFBL\": \"MIX_CONTRA\",\n",
    "    \"CFSBL\": \"SBL_CONTRA\",\n",
    "    \"SBLBL\": \"SBL_BL\",\n",
    "    \"SBLSL\": \"SBL_MIX\",\n",
    "    \"BLSL\": \"BL_MIX\",\n",
    "    \"PED\": \"CARFREE\",\n",
    "    \"WALK\": \"WALK_YR_BIKE\"\n",
    "})"
   ]
  },
  {
   "cell_type": "code",
   "execution_count": 3,
   "metadata": {},
   "outputs": [],
   "source": [
    "# === FUNCTION TO CALCULATE OVERLAP PERCENTAGE ===\n",
    "def get_road_overlap_percentage(road_geom, bike_buffer):\n",
    "    \"\"\"\n",
    "    Calculates the percentage of a road segment that lies within a bike buffer.\n",
    "    \"\"\"\n",
    "    if (road_geom is None or bike_buffer is None) or (road_geom.is_empty or bike_buffer.is_empty):\n",
    "        return 0.0\n",
    "    overlap_length = road_geom.intersection(bike_buffer).length\n",
    "    return overlap_length / road_geom.length"
   ]
  },
  {
   "cell_type": "code",
   "execution_count": 4,
   "metadata": {},
   "outputs": [],
   "source": [
    "# === DICTIONARY TO STORE BIKE-ROAD MAPPINGS ===\n",
    "bike_road_overlap_dict = {}\n",
    "\n",
    "def populate_bike_road_overlap_dict():\n",
    "    \"\"\"\n",
    "    Creates a dictionary mapping bike unique_ids to lists of overlapping road unique_ids.\n",
    "    Each road is associated with the bike buffer with the greatest overlap.\n",
    "    \"\"\"\n",
    "    for _, bike in bikes.iterrows():\n",
    "        bike_id = bike[\"unique_id\"]\n",
    "        overlapping_roads = []\n",
    "\n",
    "        # Find candidate roads using spatial index\n",
    "        possible_roads_idx = list(roads_sindex.intersection(bike[\"buffered_geom\"].bounds))\n",
    "        possible_roads = roads.iloc[possible_roads_idx]\n",
    "\n",
    "        for _, road in possible_roads.iterrows():\n",
    "            overlap_percentage = get_road_overlap_percentage(road.geometry, bike[\"buffered_geom\"])\n",
    "            if overlap_percentage >= MIN_OVERLAP:\n",
    "                overlapping_roads.append((road[\"unique_id\"], overlap_percentage))\n",
    "\n",
    "        # Sort by overlap percentage and store only the best match for each road\n",
    "        overlapping_roads.sort(key=lambda x: x[1], reverse=True)\n",
    "        best_overlapping_roads = [road_id for road_id, _ in overlapping_roads]\n",
    "\n",
    "        bike_road_overlap_dict[bike_id] = best_overlapping_roads\n",
    "\n",
    "populate_bike_road_overlap_dict()"
   ]
  },
  {
   "cell_type": "code",
   "execution_count": 5,
   "metadata": {},
   "outputs": [
    {
     "data": {
      "text/plain": [
       "[24565]"
      ]
     },
     "execution_count": 5,
     "metadata": {},
     "output_type": "execute_result"
    }
   ],
   "source": [
    "# NEU footbridge\n",
    "bike_road_overlap_dict[3468]"
   ]
  },
  {
   "cell_type": "code",
   "execution_count": 6,
   "metadata": {},
   "outputs": [
    {
     "data": {
      "text/plain": [
       "[18472, 17581, 17580, 18480]"
      ]
     },
     "execution_count": 6,
     "metadata": {},
     "output_type": "execute_result"
    }
   ],
   "source": [
    "# Neponset River Trail\n",
    "bike_road_overlap_dict[3007]"
   ]
  },
  {
   "cell_type": "code",
   "execution_count": 7,
   "metadata": {},
   "outputs": [
    {
     "data": {
      "text/plain": [
       "[]"
      ]
     },
     "execution_count": 7,
     "metadata": {},
     "output_type": "execute_result"
    }
   ],
   "source": [
    "# University Dr\n",
    "bike_road_overlap_dict[3381]"
   ]
  },
  {
   "cell_type": "code",
   "execution_count": null,
   "metadata": {},
   "outputs": [
    {
     "name": "stdout",
     "output_type": "stream",
     "text": [
      "Saved 147 bike segments with < 20.0% overlap.\n",
      "Number of road segments with assigned 'bike_type2': 6144\n"
     ]
    }
   ],
   "source": [
    "# === FUNCTION TO ASSIGN bike_type2 BASED ON DICT ===\n",
    "def assign_best_bike_type_from_dict():\n",
    "    \"\"\"\n",
    "    Assigns bike types to roads based on the overlap dictionary, ensuring one-to-one or one-to-many mappings.\n",
    "    \"\"\"\n",
    "    for bike_id, road_ids in bike_road_overlap_dict.items():\n",
    "        # Find the ExisFacil2 value for the current bike segment\n",
    "        bike_exisfacil2_value = bikes.loc[bikes[\"unique_id\"] == bike_id, \"ExisFacil2\"].values\n",
    "        if bike_exisfacil2_value.size == 0:\n",
    "            continue  # Skip if no ExisFacil2 value is found for the bike segment\n",
    "\n",
    "        # Assign ExisFacil2 value to overlapping roads\n",
    "        for road_id in road_ids:\n",
    "            roads.loc[roads[\"unique_id\"] == road_id, \"bike_type2\"] = bike_exisfacil2_value[0]\n",
    "\n",
    "# === SAVE BIKE SEGMENTS WITH NO ROAD ASSOCIATION ===\n",
    "def save_unassociated_bike_segments():\n",
    "    \"\"\"\n",
    "    Saves bike segments that do not meet the overlap threshold with any road segment.\n",
    "    \"\"\"\n",
    "    unassociated_bike_ids = [bike_id for bike_id, roads in bike_road_overlap_dict.items() if not roads]\n",
    "    unassociated_bikes = bikes[bikes[\"unique_id\"].isin(unassociated_bike_ids)].copy()\n",
    "    unassociated_bikes = unassociated_bikes.drop(columns=[\"buffered_geom\"])\n",
    "    unassociated_bikes.to_file(output_path, driver=\"ESRI Shapefile\")\n",
    "    print(f\"Saved {len(unassociated_bikes)} bike segments with < {MIN_OVERLAP * 100}% overlap.\")\n",
    "\n",
    "\n",
    "# === INITIALIZE bike_type2 COLUMN AND ASSIGN VALUES ===\n",
    "# roads[\"bike_type2\"] = None\n",
    "assign_best_bike_type_from_dict()\n",
    "\n",
    "# Save unassociated bike segments\n",
    "save_unassociated_bike_segments()\n",
    "\n",
    "# === PRINT OUTPUT ===\n",
    "non_null_bike_type2_count = roads[\"bike_type2\"].notna().sum()\n",
    "print(f\"Number of road segments with assigned 'bike_type2': {non_null_bike_type2_count}\")"
   ]
  },
  {
   "cell_type": "code",
   "execution_count": 9,
   "metadata": {},
   "outputs": [
    {
     "name": "stdout",
     "output_type": "stream",
     "text": [
      "Updated road segments with best bike type based on 20.0% minimum overlap.\n"
     ]
    }
   ],
   "source": [
    "# === SAVE THE UPDATED ROADS SHAPEFILE ===\n",
    "roads.to_file(roads_path, driver=\"ESRI Shapefile\")\n",
    "print(f\"Updated road segments with best bike type based on {MIN_OVERLAP * 100}% minimum overlap.\")"
   ]
  },
  {
   "cell_type": "code",
   "execution_count": 10,
   "metadata": {},
   "outputs": [
    {
     "data": {
      "text/plain": [
       "bike_type\n",
       "0                               15010\n",
       "Off-Road Path                    3909\n",
       "Proposed                         1864\n",
       "Bike Lane                         265\n",
       "Buffered Bike                     147\n",
       "Sharrow                           111\n",
       "Walk only                          19\n",
       "Bus bike lane                       5\n",
       "Cycle track                         1\n",
       "Cycletrack- bike lane hybrid        1\n",
       "Priority share                      1\n",
       "Name: count, dtype: int64"
      ]
     },
     "execution_count": 10,
     "metadata": {},
     "output_type": "execute_result"
    }
   ],
   "source": [
    "# Filter rows where bike_type2 is empty or null but bike_type is not\n",
    "filtered_roads = roads[(roads['bike_type2'].isna() | (roads['bike_type2'] == \"\")) & roads['bike_type'].notna()]\n",
    "\n",
    "filtered_roads['bike_type'].value_counts()"
   ]
  },
  {
   "cell_type": "code",
   "execution_count": null,
   "metadata": {},
   "outputs": [],
   "source": []
  }
 ],
 "metadata": {
  "kernelspec": {
   "display_name": "Python 3",
   "language": "python",
   "name": "python3"
  },
  "language_info": {
   "codemirror_mode": {
    "name": "ipython",
    "version": 3
   },
   "file_extension": ".py",
   "mimetype": "text/x-python",
   "name": "python",
   "nbconvert_exporter": "python",
   "pygments_lexer": "ipython3",
   "version": "3.10.0"
  }
 },
 "nbformat": 4,
 "nbformat_minor": 2
}
