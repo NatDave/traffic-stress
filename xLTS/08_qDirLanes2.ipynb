{
 "cells": [
  {
   "cell_type": "code",
   "execution_count": 16,
   "metadata": {},
   "outputs": [],
   "source": [
    "import geopandas as gpd\n",
    "import os\n",
    "\n",
    "# === BASE DIRECTORY ===\n",
    "base_dir = r\"C:\\Users\\natda\\OneDrive - Northeastern University\\Desktop\\NatDave\\Academics\\PhD_NU\\RESEARCH\\Traffic_Stress\\Boston\"\n",
    "\n",
    "# === FILE PATHS ===\n",
    "roads_path = os.path.join(base_dir, \"street_network.shp\")\n",
    "\n",
    "# === LOAD SHAPEFILE ===\n",
    "roads = gpd.read_file(roads_path)"
   ]
  },
  {
   "cell_type": "code",
   "execution_count": 17,
   "metadata": {},
   "outputs": [],
   "source": [
    "import math\n",
    "\n",
    "roads['qDirLanes2'] = None\n",
    "\n",
    "def calculate_qDirLanes2(row):\n",
    "    if row['StOperNEU'] == 1:\n",
    "        if row['Lanes_OW'] >= 2:\n",
    "            return row['Lanes_OW']\n",
    "        else:\n",
    "            return 1\n",
    "    elif row['StOperNEU'] == 11:\n",
    "            return row['NUMLANE']\n",
    "    elif row['FEDERALFUN'] == 7:\n",
    "        if row['Has_CL'] == 1:\n",
    "            return math.ceil(max(row['NUMLANE'] / 2, 1))\n",
    "        else:\n",
    "            return 0\n",
    "    elif row['No_CL'] == 1:\n",
    "        return 0\n",
    "    else:\n",
    "        return math.ceil(max(row['NUMLANE'] / 2, 1))\n",
    "\n",
    "roads['qDirLanes2'] = roads.apply(calculate_qDirLanes2, axis=1)"
   ]
  },
  {
   "cell_type": "code",
   "execution_count": 18,
   "metadata": {},
   "outputs": [],
   "source": [
    "roads.loc[(roads['qDirLanes2'] == 0) & (roads['qDirLanes'] == 2), 'qDirLanes2'] = roads['qDirLanes']\n",
    "roads.loc[(roads['qDirLanes2'] == 0) & (roads['qDirLanes'] == 3), 'qDirLanes2'] = roads['qDirLanes']\n",
    "roads.loc[(roads['qDirLanes2'] == 4) & (roads['qDirLanes'] == 1), 'qDirLanes2'] = roads['qDirLanes']"
   ]
  },
  {
   "cell_type": "code",
   "execution_count": 19,
   "metadata": {},
   "outputs": [],
   "source": [
    "# === SAVE THE UPDATED ROADS SHAPEFILE ===\n",
    "roads.to_file(roads_path, driver=\"ESRI Shapefile\")"
   ]
  },
  {
   "cell_type": "code",
   "execution_count": 20,
   "metadata": {},
   "outputs": [
    {
     "name": "stdout",
     "output_type": "stream",
     "text": [
      "Summary Table:\n"
     ]
    },
    {
     "data": {
      "text/html": [
       "<div>\n",
       "<style scoped>\n",
       "    .dataframe tbody tr th:only-of-type {\n",
       "        vertical-align: middle;\n",
       "    }\n",
       "\n",
       "    .dataframe tbody tr th {\n",
       "        vertical-align: top;\n",
       "    }\n",
       "\n",
       "    .dataframe thead th {\n",
       "        text-align: right;\n",
       "    }\n",
       "</style>\n",
       "<table border=\"1\" class=\"dataframe\">\n",
       "  <thead>\n",
       "    <tr style=\"text-align: right;\">\n",
       "      <th></th>\n",
       "      <th>Comparison</th>\n",
       "      <th>Count</th>\n",
       "    </tr>\n",
       "  </thead>\n",
       "  <tbody>\n",
       "    <tr>\n",
       "      <th>0</th>\n",
       "      <td>0 in qDirLanes vs 1 in qDirLanes2</td>\n",
       "      <td>259</td>\n",
       "    </tr>\n",
       "    <tr>\n",
       "      <th>1</th>\n",
       "      <td>1 in qDirLanes vs 0 in qDirLanes2</td>\n",
       "      <td>467</td>\n",
       "    </tr>\n",
       "    <tr>\n",
       "      <th>2</th>\n",
       "      <td>1 in qDirLanes vs 2 in qDirLanes2</td>\n",
       "      <td>2014</td>\n",
       "    </tr>\n",
       "    <tr>\n",
       "      <th>3</th>\n",
       "      <td>1 in qDirLanes vs 3 in qDirLanes2</td>\n",
       "      <td>338</td>\n",
       "    </tr>\n",
       "    <tr>\n",
       "      <th>4</th>\n",
       "      <td>1 in qDirLanes vs 9 in qDirLanes2</td>\n",
       "      <td>4</td>\n",
       "    </tr>\n",
       "    <tr>\n",
       "      <th>5</th>\n",
       "      <td>2 in qDirLanes vs 1 in qDirLanes2</td>\n",
       "      <td>244</td>\n",
       "    </tr>\n",
       "    <tr>\n",
       "      <th>6</th>\n",
       "      <td>2 in qDirLanes vs 3 in qDirLanes2</td>\n",
       "      <td>7</td>\n",
       "    </tr>\n",
       "    <tr>\n",
       "      <th>7</th>\n",
       "      <td>3 in qDirLanes vs 2 in qDirLanes2</td>\n",
       "      <td>6</td>\n",
       "    </tr>\n",
       "    <tr>\n",
       "      <th>8</th>\n",
       "      <td>4 in qDirLanes vs 0 in qDirLanes2</td>\n",
       "      <td>3</td>\n",
       "    </tr>\n",
       "    <tr>\n",
       "      <th>9</th>\n",
       "      <td>5 in qDirLanes vs 9 in qDirLanes2</td>\n",
       "      <td>2</td>\n",
       "    </tr>\n",
       "    <tr>\n",
       "      <th>10</th>\n",
       "      <td>Same</td>\n",
       "      <td>33452</td>\n",
       "    </tr>\n",
       "  </tbody>\n",
       "</table>\n",
       "</div>"
      ],
      "text/plain": [
       "                           Comparison  Count\n",
       "0   0 in qDirLanes vs 1 in qDirLanes2    259\n",
       "1   1 in qDirLanes vs 0 in qDirLanes2    467\n",
       "2   1 in qDirLanes vs 2 in qDirLanes2   2014\n",
       "3   1 in qDirLanes vs 3 in qDirLanes2    338\n",
       "4   1 in qDirLanes vs 9 in qDirLanes2      4\n",
       "5   2 in qDirLanes vs 1 in qDirLanes2    244\n",
       "6   2 in qDirLanes vs 3 in qDirLanes2      7\n",
       "7   3 in qDirLanes vs 2 in qDirLanes2      6\n",
       "8   4 in qDirLanes vs 0 in qDirLanes2      3\n",
       "9   5 in qDirLanes vs 9 in qDirLanes2      2\n",
       "10                               Same  33452"
      ]
     },
     "execution_count": 20,
     "metadata": {},
     "output_type": "execute_result"
    }
   ],
   "source": [
    "# === COMPARE COLUMNS AND GENERATE SUMMARY ===\n",
    "def compare_qDirLanes(row):\n",
    "    if row['qDirLanes'] == row['qDirLanes2']:\n",
    "        return 'Same'\n",
    "    else:\n",
    "        return f\"{row['qDirLanes']} in qDirLanes vs {row['qDirLanes2']} in qDirLanes2\"\n",
    "\n",
    "# Add a comparison column\n",
    "roads['Comparison'] = roads.apply(compare_qDirLanes, axis=1)\n",
    "\n",
    "# Count summary: Group by unique differences and calculate counts\n",
    "summary_table = roads.groupby('Comparison').size().reset_index(name='Count')\n",
    "\n",
    "# Output the table\n",
    "print(\"Summary Table:\")\n",
    "summary_table"
   ]
  }
 ],
 "metadata": {
  "kernelspec": {
   "display_name": "Python 3",
   "language": "python",
   "name": "python3"
  },
  "language_info": {
   "codemirror_mode": {
    "name": "ipython",
    "version": 3
   },
   "file_extension": ".py",
   "mimetype": "text/x-python",
   "name": "python",
   "nbconvert_exporter": "python",
   "pygments_lexer": "ipython3",
   "version": "3.10.0"
  }
 },
 "nbformat": 4,
 "nbformat_minor": 2
}
