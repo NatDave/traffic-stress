{
 "cells": [
  {
   "cell_type": "code",
   "execution_count": 1,
   "metadata": {},
   "outputs": [
    {
     "name": "stdout",
     "output_type": "stream",
     "text": [
      "Assigned RRFB to relevant crossings.\n",
      "Total crossings with RRFB: 14\n",
      "There are 0 unassociated RRFBs.\n"
     ]
    }
   ],
   "source": [
    "import geopandas as gpd\n",
    "import os\n",
    "import warnings\n",
    "import ast\n",
    "\n",
    "warnings.filterwarnings(\"ignore\")\n",
    "\n",
    "# Base directory path\n",
    "base_dir = r\"C:\\Users\\natda\\OneDrive - Northeastern University\\Desktop\\NatDave\\Academics\\PhD_NU\\RESEARCH\\Traffic_Stress\\Boston\"\n",
    "\n",
    "# Construct file paths\n",
    "roads_path = os.path.join(base_dir, \"street_network.shp\")\n",
    "crossings_path = os.path.join(base_dir, \"crossings.shp\")\n",
    "rrfb_path = os.path.join(base_dir, \"rrfb.shp\")\n",
    "unassociated_rrfb_path = os.path.join(base_dir, \"unassociated_rrfb.shp\")\n",
    "\n",
    "# Load shapefiles\n",
    "roads = gpd.read_file(roads_path)\n",
    "crossings = gpd.read_file(crossings_path)\n",
    "rrfb = gpd.read_file(rrfb_path)\n",
    "\n",
    "# Convert CRS_LEG from string to list\n",
    "crossings['CRS_LEG'] = crossings['CRS_LEG'].apply(lambda x: ast.literal_eval(x) if isinstance(x, str) else x)\n",
    "\n",
    "# Reproject RRFBs to match roads CRS\n",
    "rrfb = rrfb.to_crs(roads.crs)\n",
    "\n",
    "# Add 'ID' column to RRFBs and assign sequential values\n",
    "rrfb['ID'] = range(1, len(rrfb) + 1)\n",
    "\n",
    "# Buffer RRFBs by 5 meters\n",
    "rrfb['geometry'] = rrfb.geometry.buffer(1)\n",
    "\n",
    "# Identify road segments that intersect with RRFBs\n",
    "rrfb_road_segments = roads[roads.geometry.intersects(rrfb.unary_union)]\n",
    "rrfb_road_ids = set(rrfb_road_segments['unique_id'])\n",
    "\n",
    "# Create a dictionary to store the nearest junction for each RRFB\n",
    "junctions = crossings[['JUNC_ID', 'geometry']].drop_duplicates()  # Get unique junction points\n",
    "rrfb_to_junction = {}\n",
    "\n",
    "for _, rrfb_row in rrfb.iterrows():\n",
    "    rrfb_geom = rrfb_row.geometry\n",
    "    distances = junctions.geometry.distance(rrfb_geom)\n",
    "    nearest_junction_idx = distances.idxmin()\n",
    "    nearest_junction_id = junctions.loc[nearest_junction_idx, 'JUNC_ID']\n",
    "    rrfb_to_junction[rrfb_row['ID']] = nearest_junction_id\n",
    "\n",
    "# Assign RRFB to crossings based on the nearest intersecting road segment\n",
    "crossings['RRFB'] = 0  # Default to 0 (no RRFB)\n",
    "for idx, row in crossings.iterrows():\n",
    "    crs_leg = row['CRS_LEG']\n",
    "\n",
    "    if isinstance(crs_leg, list):\n",
    "        has_rrfb = any(seg in rrfb_road_ids for seg in crs_leg)\n",
    "\n",
    "        # Ensure that the crossing is at the nearest junction for the RRFB\n",
    "        if has_rrfb and row['JUNC_ID'] in rrfb_to_junction.values():\n",
    "            crossings.at[idx, 'RRFB'] = 1  # Assign 1 for crossings with RRFB\n",
    "\n",
    "# Identify unassociated RRFBs (those not linked to any road segment)\n",
    "unassociated_rrfb = rrfb[~rrfb.intersects(rrfb_road_segments.unary_union)]\n",
    "\n",
    "# Save unassociated RRFBs to a new shapefile\n",
    "unassociated_rrfb.to_file(unassociated_rrfb_path, driver='ESRI Shapefile')\n",
    "\n",
    "# Save the updated crossings shapefile\n",
    "crossings.to_file(crossings_path, driver='ESRI Shapefile')\n",
    "\n",
    "# Output summary\n",
    "print(\"Assigned RRFB to relevant crossings.\")\n",
    "print(f\"Total crossings with RRFB: {crossings['RRFB'].sum()}\")\n",
    "print(f\"There are {len(unassociated_rrfb)} unassociated RRFBs.\")"
   ]
  }
 ],
 "metadata": {
  "kernelspec": {
   "display_name": "Python 3",
   "language": "python",
   "name": "python3"
  },
  "language_info": {
   "codemirror_mode": {
    "name": "ipython",
    "version": 3
   },
   "file_extension": ".py",
   "mimetype": "text/x-python",
   "name": "python",
   "nbconvert_exporter": "python",
   "pygments_lexer": "ipython3",
   "version": "3.10.0"
  }
 },
 "nbformat": 4,
 "nbformat_minor": 2
}
