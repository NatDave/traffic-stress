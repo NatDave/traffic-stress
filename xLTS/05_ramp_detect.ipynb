{
 "cells": [
  {
   "cell_type": "code",
   "execution_count": null,
   "metadata": {},
   "outputs": [],
   "source": [
    "import geopandas as gpd\n",
    "import os\n",
    "import warnings\n",
    "\n",
    "warnings.filterwarnings(\"ignore\")\n",
    "\n",
    "# Base directory path\n",
    "base_dir = r\"C:\\Users\\natda\\OneDrive - Northeastern University\\Desktop\\NatDave\\Academics\\PhD_NU\\RESEARCH\\Traffic_Stress\\Boston\"\n",
    "\n",
    "# Input file path\n",
    "roads_path = os.path.join(base_dir, \"street_network.shp\")\n",
    "\n",
    "# Output file path\n",
    "output_path = os.path.join(base_dir, \"street_network.shp\")\n",
    "\n",
    "# Load shapefile\n",
    "roads = gpd.read_file(roads_path)"
   ]
  },
  {
   "cell_type": "code",
   "execution_count": 2,
   "metadata": {},
   "outputs": [],
   "source": [
    "def count_ramps(roads, highway_name, on_ramp_keywords, off_ramp_keywords):\n",
    "    \"\"\"\n",
    "    Counts the number of on-ramps and off-ramps for a specified highway.\n",
    "    \"\"\"\n",
    "    # Count instances for on-ramps\n",
    "    on_ramps_count = roads['STREETNAME'].str.contains('|'.join(on_ramp_keywords), na=False).sum()\n",
    "\n",
    "    # Count instances for off-ramps\n",
    "    off_ramps_count = roads['STREETNAME'].str.contains('|'.join(off_ramp_keywords), na=False).sum()\n",
    "\n",
    "    # Print the results\n",
    "    print(f\"{highway_name} Ramps:\")\n",
    "    print(f\"Number of on-ramps: {on_ramps_count}\")\n",
    "    print(f\"Number of off-ramps: {off_ramps_count}\")\n",
    "    \n",
    "    return on_ramps_count, off_ramps_count"
   ]
  },
  {
   "cell_type": "code",
   "execution_count": null,
   "metadata": {},
   "outputs": [
    {
     "name": "stdout",
     "output_type": "stream",
     "text": [
      "I-90 Ramps:\n",
      "Number of on-ramps: 213\n",
      "Number of off-ramps: 174\n"
     ]
    }
   ],
   "source": [
    "# Define I-90 ramp keywords\n",
    "off_ramps_90 = [\"RAMP-RTS 90\", \"RAMP-RT 90\"]\n",
    "on_ramps_90 = [\"TO RT 90\", \"TO RTS 90\"]\n",
    "\n",
    "# Count ramps for I-90\n",
    "on_count_90, off_count_90 = count_ramps(roads, \"I-90\", on_ramps_90, off_ramps_90)"
   ]
  },
  {
   "cell_type": "code",
   "execution_count": 4,
   "metadata": {},
   "outputs": [
    {
     "name": "stdout",
     "output_type": "stream",
     "text": [
      "I-93 Ramps:\n",
      "Number of on-ramps: 279\n",
      "Number of off-ramps: 269\n"
     ]
    }
   ],
   "source": [
    "# Define I-93 ramp keywords\n",
    "off_ramps_93 = [\"RAMP-RTS 93\", \"RAMP-RT 93\"]\n",
    "on_ramps_93 = [\"TO RT 93\", \"TO RTS 93\"]\n",
    "\n",
    "# Count ramps for I-93\n",
    "on_count_93, off_count_93 = count_ramps(roads, \"I-93\", on_ramps_93, off_ramps_93)"
   ]
  },
  {
   "cell_type": "code",
   "execution_count": 5,
   "metadata": {},
   "outputs": [
    {
     "name": "stdout",
     "output_type": "stream",
     "text": [
      "I-90 ramps updated: On-ramps set to 98, Off-ramps set to 99.\n",
      "I-93 ramps updated: On-ramps set to 98, Off-ramps set to 99.\n"
     ]
    }
   ],
   "source": [
    "def update_ramps(roads, highway_name, on_ramp_keywords, off_ramp_keywords):\n",
    "    \"\"\"\n",
    "    Updates the qNoAccess attribute for on-ramps and off-ramps for a specified highway.\n",
    "    On-ramps are assigned 98, and off-ramps are assigned 99.\n",
    "    \"\"\"\n",
    "    # Update qNoAccess attribute for on-ramps\n",
    "    roads.loc[roads['STREETNAME'].str.contains('|'.join(on_ramp_keywords), na=False), 'qNoAccess'] = 98\n",
    "\n",
    "    # Update qNoAccess attribute for off-ramps\n",
    "    roads.loc[roads['STREETNAME'].str.contains('|'.join(off_ramp_keywords), na=False), 'qNoAccess'] = 99\n",
    "\n",
    "    print(f\"{highway_name} ramps updated: On-ramps set to 98, Off-ramps set to 99.\")\n",
    "    return roads\n",
    "\n",
    "# Update ramps for I-90\n",
    "roads = update_ramps(roads, \"I-90\", on_ramps_90, off_ramps_90)\n",
    "\n",
    "# Update ramps for I-93\n",
    "roads = update_ramps(roads, \"I-93\", on_ramps_93, off_ramps_93)"
   ]
  },
  {
   "cell_type": "code",
   "execution_count": null,
   "metadata": {},
   "outputs": [],
   "source": [
    "from datetime import datetime\n",
    "\n",
    "# Define the condition\n",
    "condition = ((roads['qNoAccess'] == 98) | (roads['qNoAccess'] == 99)) & (roads['qExclude'] == 1)\n",
    "\n",
    "# Update qExclude to 0 using the condition\n",
    "roads.loc[condition, 'qExclude'] = 0\n",
    "\n",
    "# Save the updated shapefile\n",
    "roads.to_file(output_path)"
   ]
  },
  {
   "cell_type": "code",
   "execution_count": null,
   "metadata": {},
   "outputs": [],
   "source": [
    "# Prepare the current date\n",
    "current_date = datetime.now().strftime(\"%m/%d/%Y\")\n",
    "\n",
    "# Append the edit comment appropriately\n",
    "roads.loc[condition, 'qEditCmnts'] = roads.loc[condition, 'qEditCmnts'].apply(\n",
    "    lambda cmnt: (\n",
    "        cmnt + f\"; ND changed qExclude from 1 to 0 on {current_date}\"\n",
    "        if cmnt else\n",
    "        f\"ND changed qExclude from 1 to 0 on {current_date}\"\n",
    "    )\n",
    ")"
   ]
  },
  {
   "cell_type": "code",
   "execution_count": 7,
   "metadata": {},
   "outputs": [
    {
     "name": "stdout",
     "output_type": "stream",
     "text": [
      "qNoAccess\n",
      "0     34911\n",
      "1      1152\n",
      "99      371\n",
      "98      362\n",
      "Name: count, dtype: int64\n"
     ]
    }
   ],
   "source": [
    "# Display value counts for the 'qNoAccess' column\n",
    "qNoAccess_counts = roads['qNoAccess'].value_counts()\n",
    "print(qNoAccess_counts)"
   ]
  }
 ],
 "metadata": {
  "kernelspec": {
   "display_name": "Python 3",
   "language": "python",
   "name": "python3"
  },
  "language_info": {
   "codemirror_mode": {
    "name": "ipython",
    "version": 3
   },
   "file_extension": ".py",
   "mimetype": "text/x-python",
   "name": "python",
   "nbconvert_exporter": "python",
   "pygments_lexer": "ipython3",
   "version": "3.10.0"
  }
 },
 "nbformat": 4,
 "nbformat_minor": 2
}
