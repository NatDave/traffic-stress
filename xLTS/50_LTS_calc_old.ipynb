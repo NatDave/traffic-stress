{
 "cells": [
  {
   "cell_type": "code",
   "execution_count": 1,
   "metadata": {},
   "outputs": [],
   "source": [
    "import pandas as pd\n",
    "import geopandas as gpd\n",
    "import os\n",
    "\n",
    "# === BASE DIRECTORY ===\n",
    "base_dir = r\"C:\\Users\\natda\\OneDrive - Northeastern University\\Desktop\\NatDave\\Academics\\PhD_NU\\RESEARCH\\Traffic_Stress\\Boston\"\n",
    "\n",
    "# === FILE PATHS ===\n",
    "roads_path = os.path.join(base_dir, \"street_network.shp\")\n",
    "\n",
    "# === LOAD SHAPEFILE ===\n",
    "roads = gpd.read_file(roads_path)\n",
    "\n",
    "# === CONVERT RELEVANT COLUMNS TO NUMERIC ===\n",
    "numeric_cols = ['SPEED', 'qDirLanes', 'qNoAccess', 'qExclude', 'BL_WIDTH', 'BL_REACH', 'PARKALONG', 'ILLPARKING', 'StOperNEU', 'ADT_Infer', 'FEDERALFUN']\n",
    "roads[numeric_cols] = roads[numeric_cols].apply(pd.to_numeric, errors='coerce')"
   ]
  },
  {
   "cell_type": "code",
   "execution_count": 2,
   "metadata": {},
   "outputs": [
    {
     "data": {
      "text/plain": [
       "FEDERALFUN\n",
       "7    14461\n",
       "0     9193\n",
       "3     4977\n",
       "4     3200\n",
       "5     2593\n",
       "2      825\n",
       "6      797\n",
       "1      750\n",
       "Name: count, dtype: int64"
      ]
     },
     "execution_count": 2,
     "metadata": {},
     "output_type": "execute_result"
    }
   ],
   "source": [
    "roads['FEDERALFUN'].value_counts(dropna=False)"
   ]
  },
  {
   "cell_type": "code",
   "execution_count": 3,
   "metadata": {},
   "outputs": [
    {
     "name": "stdout",
     "output_type": "stream",
     "text": [
      "LTS_compare calculation complete.\n",
      "LTS_compare\n",
      "1     18559\n",
      "5      6278\n",
      "3      6278\n",
      "2      2574\n",
      "6      1885\n",
      "4      1146\n",
      "98       76\n",
      "Name: count, dtype: int64\n"
     ]
    }
   ],
   "source": [
    "# === FUNCTION TO CALCULATE LTS_compare ===\n",
    "def calculate_LTS_compare(row):\n",
    "    \"\"\"Calculate LTS_compare based on road characteristics.\"\"\"\n",
    "    \n",
    "    protected = row['qProtected']\n",
    "    no_access = row['qNoAccess']\n",
    "    exclude = row['qExclude']\n",
    "    speed = row['SPEED']\n",
    "    dir_lanes = row['qDirLanes']\n",
    "    bl_width = row['BL_WIDTH']\n",
    "    bl_reach = row['BL_REACH']\n",
    "    parkalong = row['PARKALONG']\n",
    "    illparking = row['ILLPARKING']\n",
    "    bike_type = row['bike_type2']\n",
    "    st_oper_neu = row['StOperNEU']\n",
    "    adt = row['ADT_Infer']\n",
    "    fed_fun = row['FEDERALFUN']\n",
    "\n",
    "    \n",
    "    if no_access in (1, 98, 99):\n",
    "        return 6  # freeway (ramps)\n",
    "    elif exclude in (1, 5) or (bike_type and bike_type in (\"WALK_YR_BIKE\")):\n",
    "        return 5  # cemetary, private property, peds only, etc.\n",
    "    elif fed_fun == 0 and exclude == 0:\n",
    "        return 1  # Parks, alleys, bike paths, streets with almost no traffic\n",
    "    elif bike_type in (\"SUP\", \"SUP_NAT\", \"SUP_MINOR\", \"SBL\", \"SBL_LEFT\", \"SBL_BL\", \"SBL_MIX\", \"CARFREE\"):\n",
    "        return 1  # Separated from traffic\n",
    "    elif protected == 1:\n",
    "        return 1 # Separated from traffic\n",
    "    \n",
    "    elif ((bl_width >= 4) or bike_type in (\"BL\", \"BL_LEFT\", \"BL_MIX\", \"BL_BUF\", \"BL_BUF_LEFT\", \"BUS_BL\", \"BUS_BL_LEFT\", \"BL_PK_BUS_BL\")) and (parkalong == 0):\n",
    "        # Conventional bike lanes NOT adjacent to parking\n",
    "        if (\n",
    "            (dir_lanes >= 3 and speed > 38.5) or \n",
    "            (dir_lanes == 2 and speed > 43.5 and bl_width < 6) or\n",
    "            (dir_lanes <= 1 and speed > 48.5 and bl_width < 6)\n",
    "        ):\n",
    "            return 4\n",
    "        elif (dir_lanes >= 3) or (speed > 38.5):\n",
    "            return 3\n",
    "        elif (\n",
    "            dir_lanes == 2 or\n",
    "            speed > 33.5 or\n",
    "            (dir_lanes == 1 and bl_width < 6) or\n",
    "            (dir_lanes == 1 and speed > 33.5)\n",
    "        ):\n",
    "            return 2\n",
    "        elif (dir_lanes <= 1) and (bl_width >= 6):\n",
    "            return 1\n",
    "        else:\n",
    "            return 98 # For other cases that do not meet conditions\n",
    "        \n",
    "    elif (bl_width >= 4 or bike_type in (\"BL\", \"BL_LEFT\", \"BL_BUF\", \"BL_MIX\", \"BL_PK_BUS_BL\")) and (parkalong == 1) and (bl_reach >= 12):\n",
    "        # Conventional bike lanes adjacent to parking\n",
    "        if (dir_lanes <= 1 and speed <= 28.5 and bl_reach >= 15):\n",
    "            return 1\n",
    "        elif (\n",
    "            (dir_lanes <= 1 and speed <= 38.5 and bl_reach >= 15) or\n",
    "            (dir_lanes <= 1 and speed <= 33.5 and bl_reach < 15) or\n",
    "            (dir_lanes > 1 and speed <= 28.5 and st_oper_neu == 1 and bl_reach >= 15) or\n",
    "            (dir_lanes == 2 and speed <= 28.5 and bl_reach >= 15)\n",
    "        ):\n",
    "            return 2\n",
    "        else:\n",
    "            return 3\n",
    "\n",
    "    elif (\n",
    "        (bl_width < 4) or \n",
    "        ((bl_width >= 4) and (bl_reach == 1)) or \n",
    "        ((bl_width >= 4) and (parkalong > 0) and (bl_reach < 12)) or\n",
    "        bike_type in (\"MIX_CONTRA\", \"MIX_SCONTRA\", \"SLM\", \"SLMTC\")\n",
    "    ):\n",
    "        # Mixed traffic conditions\n",
    "        if (\n",
    "            (dir_lanes >= 3 and speed > 28.5) or \n",
    "            (dir_lanes == 2 and adt > 8_000 and speed > 28.5) or \n",
    "            (dir_lanes == 2 and adt <= 8_000 and speed > 38.5)\n",
    "        ):\n",
    "            return 4\n",
    "        elif (\n",
    "            (dir_lanes >= 2) or \n",
    "            (speed > 38.5) or \n",
    "            (dir_lanes == 1 and adt > 3_000) or \n",
    "            (dir_lanes == 1 and adt > 1_500 and speed > 23.5)\n",
    "        ):\n",
    "            return 3\n",
    "        elif (\n",
    "            (dir_lanes == 1 and adt > 1_000) or \n",
    "            (dir_lanes == 1 and speed > 28.5) or \n",
    "            (dir_lanes == 0 and adt > 1_500) or \n",
    "            (dir_lanes == 0 and speed > 28.5)\n",
    "        ):\n",
    "            return 2\n",
    "        elif (\n",
    "            (dir_lanes == 1 and speed <= 28.5) or \n",
    "            (dir_lanes == 0 and speed <= 28.5)\n",
    "        ):\n",
    "            return 1\n",
    "        else:\n",
    "            return 99  # For other cases that do not meet conditions\n",
    "\n",
    "    else:\n",
    "        return 96  # Default return for other cases\n",
    "\n",
    "# === CALCULATE LTS_compare FOR ROADS ===\n",
    "roads['LTS_compare'] = roads.apply(calculate_LTS_compare, axis=1)\n",
    "\n",
    "# === SAVE THE UPDATED ROADS SHAPEFILE ===\n",
    "# roads.to_file(roads_path, driver=\"ESRI Shapefile\")\n",
    " \n",
    "# Output summary\n",
    "print(\"LTS_compare calculation complete.\")\n",
    "print(roads['LTS_compare'].value_counts(dropna=False))"
   ]
  },
  {
   "cell_type": "code",
   "execution_count": 4,
   "metadata": {},
   "outputs": [
    {
     "name": "stdout",
     "output_type": "stream",
     "text": [
      "Column 'qProtected' exists in the dataframe.\n"
     ]
    }
   ],
   "source": [
    "if 'qProtected' in roads.columns:\n",
    "    print(\"Column 'qProtected' exists in the dataframe.\")\n",
    "else:\n",
    "    print(\"Column 'qProtected' does not exist in the dataframe.\")\n"
   ]
  },
  {
   "cell_type": "code",
   "execution_count": 5,
   "metadata": {},
   "outputs": [
    {
     "data": {
      "text/plain": [
       "LTS_2018\n",
       "1    17648\n",
       "3     7140\n",
       "5     6055\n",
       "2     2186\n",
       "6     1839\n",
       "4     1682\n",
       "0      246\n",
       "Name: count, dtype: int64"
      ]
     },
     "execution_count": 5,
     "metadata": {},
     "output_type": "execute_result"
    }
   ],
   "source": [
    "roads['LTS_2018'].value_counts(dropna=False)"
   ]
  },
  {
   "cell_type": "code",
   "execution_count": 6,
   "metadata": {},
   "outputs": [
    {
     "name": "stdout",
     "output_type": "stream",
     "text": [
      "['qLTS', 'qLTS_Retn', 'qLTS_Own', 'LTS2006', 'LTS2014', 'LTSEmerald', 'LTSBForE', 'LTS_DT_Imp', 'LTS_DT_BE', 'LTS_DT_Col', 'LTS_Colum', 'LTS_All_Im', 'LTS_2017', 'LTS_2018', 'LTS_2025', 'LTS_2025b', 'LTS_DIFF', 'LTS_compare']\n"
     ]
    }
   ],
   "source": [
    "# Assuming roads is your GeoDataFrame\n",
    "lts_columns = [col for col in roads.columns if \"LTS\" in col]\n",
    "print(lts_columns)"
   ]
  },
  {
   "cell_type": "code",
   "execution_count": 7,
   "metadata": {},
   "outputs": [
    {
     "name": "stdout",
     "output_type": "stream",
     "text": [
      "Cases where NatDave > Theja: 14\n",
      "Cases where NatDave = Theja: 26504\n",
      "Cases where NatDave < Theja: 1993\n",
      "\n",
      "Detailed Breakdown:\n",
      "Cases where NatDave says 1 but Theja says 2: 392\n",
      "Cases where NatDave says 1 but Theja says 3: 381\n",
      "Cases where NatDave says 1 but Theja says 4: 243\n",
      "Cases where NatDave says 2 but Theja says 1: 12\n",
      "Cases where NatDave says 2 but Theja says 3: 684\n",
      "Cases where NatDave says 2 but Theja says 4: 89\n",
      "Cases where NatDave says 3 but Theja says 1: 2\n",
      "Cases where NatDave says 3 but Theja says 2: 0\n",
      "Cases where NatDave says 3 but Theja says 4: 204\n",
      "Cases where NatDave says 4 but Theja says 1: 0\n",
      "Cases where NatDave says 4 but Theja says 2: 0\n",
      "Cases where NatDave says 4 but Theja says 3: 0\n"
     ]
    }
   ],
   "source": [
    "# Filter rows where the values are 1, 2, 3, or 4\n",
    "valid_values = {1, 2, 3, 4}\n",
    "filtered_rows = roads[roads[\"LTS_2018\"].isin(valid_values) & roads[\"LTS_compare\"].isin(valid_values)]\n",
    "\n",
    "# Determine cases where values differ\n",
    "diff_mask = filtered_rows[\"LTS_2018\"] != filtered_rows[\"LTS_compare\"]\n",
    "\n",
    "# Count the number of instances for different conditions\n",
    "cases_2025_gt_2018 = (filtered_rows[\"LTS_compare\"] > filtered_rows[\"LTS_2018\"]).sum()\n",
    "cases_2025_eq_2018 = (filtered_rows[\"LTS_compare\"] == filtered_rows[\"LTS_2018\"]).sum()\n",
    "cases_2025_lt_2018 = (filtered_rows[\"LTS_compare\"] < filtered_rows[\"LTS_2018\"]).sum()\n",
    "\n",
    "# Calculate breakdowns for specific transitions\n",
    "breakdown = {}\n",
    "for LTS_compare, lts_2018 in [(1, 2), (1, 3), (1, 4), (2, 1), (2, 3), (2, 4),\n",
    "                           (3, 1), (3, 2), (3, 4), (4, 1), (4, 2), (4, 3)]:\n",
    "    count = ((filtered_rows[\"LTS_compare\"] == LTS_compare) & (filtered_rows[\"LTS_2018\"] == lts_2018)).sum()\n",
    "    breakdown[(LTS_compare, lts_2018)] = count\n",
    "\n",
    "# Print general summary\n",
    "print(f\"Cases where NatDave > Theja: {cases_2025_gt_2018}\")\n",
    "print(f\"Cases where NatDave = Theja: {cases_2025_eq_2018}\")\n",
    "print(f\"Cases where NatDave < Theja: {cases_2025_lt_2018}\")\n",
    "\n",
    "# Print detailed breakdown\n",
    "print(\"\\nDetailed Breakdown:\")\n",
    "for (LTS_compare, lts_2018), count in breakdown.items():\n",
    "    print(f\"Cases where NatDave says {LTS_compare} but Theja says {lts_2018}: {count}\")"
   ]
  },
  {
   "cell_type": "code",
   "execution_count": 8,
   "metadata": {},
   "outputs": [
    {
     "name": "stdout",
     "output_type": "stream",
     "text": [
      "Number of differing rows: 2457 out of 36796\n",
      "Proportion of differing rows: 6.68%\n"
     ]
    }
   ],
   "source": [
    "# Check where the values are not the same\n",
    "diff_mask = roads[\"LTS_2018\"] != roads[\"LTS_compare\"]\n",
    "\n",
    "# Count the number of instances where the values differ\n",
    "num_diff = diff_mask.sum()\n",
    "\n",
    "# Calculate the proportion of differing values\n",
    "proportion_diff = num_diff / len(roads)\n",
    "\n",
    "# Print results\n",
    "print(f\"Number of differing rows: {num_diff} out of {len(roads)}\")\n",
    "print(f\"Proportion of differing rows: {proportion_diff:.2%}\")"
   ]
  },
  {
   "cell_type": "code",
   "execution_count": 9,
   "metadata": {},
   "outputs": [
    {
     "data": {
      "text/plain": [
       "LTS_compare\n",
       "1     18559\n",
       "5      6278\n",
       "3      6278\n",
       "2      2574\n",
       "6      1885\n",
       "4      1146\n",
       "98       76\n",
       "Name: count, dtype: int64"
      ]
     },
     "execution_count": 9,
     "metadata": {},
     "output_type": "execute_result"
    }
   ],
   "source": [
    "roads['LTS_compare'].value_counts(dropna=False)"
   ]
  },
  {
   "cell_type": "code",
   "execution_count": 10,
   "metadata": {},
   "outputs": [
    {
     "name": "stdout",
     "output_type": "stream",
     "text": [
      "Total miles for each LTS_compare value:\n",
      "LTS_compare\n",
      "1     1032.483652\n",
      "2      124.681164\n",
      "3      303.084630\n",
      "4       63.971888\n",
      "5      316.075461\n",
      "6      124.071922\n",
      "98       1.523742\n",
      "Name: LENGTH_MILES, dtype: float64\n"
     ]
    }
   ],
   "source": [
    "# Calculate road lengths in meters\n",
    "roads[\"LENGTH_METERS\"] = roads.geometry.length\n",
    "\n",
    "# Convert lengths to miles\n",
    "roads[\"LENGTH_MILES\"] = roads[\"LENGTH_METERS\"] * 0.000621371\n",
    "\n",
    "# Calculate total miles for each LTS_compare value\n",
    "lts_miles = roads.groupby(\"LTS_compare\")[\"LENGTH_MILES\"].sum()\n",
    "\n",
    "# Print the results\n",
    "print(\"Total miles for each LTS_compare value:\")\n",
    "print(lts_miles)"
   ]
  },
  {
   "cell_type": "code",
   "execution_count": 11,
   "metadata": {},
   "outputs": [
    {
     "data": {
      "text/plain": [
       "1965.8924581837405"
      ]
     },
     "execution_count": 11,
     "metadata": {},
     "output_type": "execute_result"
    }
   ],
   "source": [
    "roads[\"LENGTH_MILES\"].sum()"
   ]
  },
  {
   "cell_type": "code",
   "execution_count": 12,
   "metadata": {},
   "outputs": [
    {
     "name": "stdout",
     "output_type": "stream",
     "text": [
      "Total length in miles where LTS_compare < LTS_2018: 96.225113159105\n"
     ]
    }
   ],
   "source": [
    "# Filter rows where LTS_compare < LTS_2018\n",
    "improve = roads[roads[\"LTS_compare\"] < roads[\"LTS_2018\"]]\n",
    "\n",
    "# Calculate the total length in miles\n",
    "total_length_miles = improve[\"LENGTH_MILES\"].sum()\n",
    "\n",
    "# Print the result\n",
    "print(f\"Total length in miles where LTS_compare < LTS_2018: {total_length_miles}\")"
   ]
  },
  {
   "cell_type": "code",
   "execution_count": 13,
   "metadata": {},
   "outputs": [
    {
     "name": "stdout",
     "output_type": "stream",
     "text": [
      "   LTS_2018  LTS_compare  LTS_DIFF\n",
      "0         5            5         0\n",
      "1         1            1         0\n",
      "2         1            1         0\n",
      "3         1            1         0\n",
      "4         5            5         0\n"
     ]
    }
   ],
   "source": [
    "# Create a new column for the difference between LTS_2018 and LTS_compare\n",
    "roads[\"LTS_DIFF\"] = roads[\"LTS_2018\"] - roads[\"LTS_compare\"]\n",
    "\n",
    "# Print the first few rows to verify\n",
    "print(roads[[\"LTS_2018\", \"LTS_compare\", \"LTS_DIFF\"]].head())\n",
    "\n",
    "# Save the updated shape file\n",
    "# roads.to_file(roads_path, driver=\"ESRI Shapefile\")"
   ]
  }
 ],
 "metadata": {
  "kernelspec": {
   "display_name": "Python 3",
   "language": "python",
   "name": "python3"
  },
  "language_info": {
   "codemirror_mode": {
    "name": "ipython",
    "version": 3
   },
   "file_extension": ".py",
   "mimetype": "text/x-python",
   "name": "python",
   "nbconvert_exporter": "python",
   "pygments_lexer": "ipython3",
   "version": "3.10.0"
  }
 },
 "nbformat": 4,
 "nbformat_minor": 2
}
