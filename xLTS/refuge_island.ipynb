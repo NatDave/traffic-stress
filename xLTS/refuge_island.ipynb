{
 "cells": [
  {
   "cell_type": "code",
   "execution_count": 2,
   "metadata": {},
   "outputs": [
    {
     "name": "stdout",
     "output_type": "stream",
     "text": [
      "Updated crossings.shp with CRS_ISLAND attribute for refuge islands.\n",
      "There are 70 unassociated refuge islands.\n"
     ]
    }
   ],
   "source": [
    "import geopandas as gpd\n",
    "import os\n",
    "import warnings\n",
    "import ast\n",
    "\n",
    "warnings.filterwarnings(\"ignore\")\n",
    "\n",
    "# Base directory path\n",
    "base_dir = r\"C:\\Users\\natda\\Desktop\\NatDave\\Academics\\PhD_NU\\RESEARCH\\Traffic_Stress\\Boston\"\n",
    "\n",
    "# Construct file paths\n",
    "roads_path = os.path.join(base_dir, \"street_network.shp\")\n",
    "crossings_path = os.path.join(base_dir, \"crossings.shp\")\n",
    "refuge_islands_path = os.path.join(base_dir, \"osm_refuge_islands.gdb\")\n",
    "unassociated_refuge_islands_path = os.path.join(base_dir, \"unassociated_refuge_islands.shp\")\n",
    "\n",
    "# Load shapefiles\n",
    "roads = gpd.read_file(roads_path)\n",
    "crossings = gpd.read_file(crossings_path)\n",
    "refuge_islands = gpd.read_file(refuge_islands_path)\n",
    "\n",
    "# Convert CRS_LEG from string to list\n",
    "crossings['CRS_LEG'] = crossings['CRS_LEG'].apply(lambda x: ast.literal_eval(x) if isinstance(x, str) else x)\n",
    "\n",
    "# Reproject refuge islands to match roads CRS\n",
    "refuge_islands = refuge_islands.to_crs(roads.crs)\n",
    "\n",
    "# Add 'ID' column to refuge islands and assign sequential values\n",
    "refuge_islands['ID'] = range(1, len(refuge_islands) + 1)\n",
    "\n",
    "# Buffer refuge islands by 5 meters\n",
    "refuge_islands['geometry'] = refuge_islands.geometry.buffer(5)\n",
    "\n",
    "# Find road segments that intersect with refuge islands\n",
    "refuge_road_segments = roads[roads.geometry.intersects(refuge_islands.unary_union)]\n",
    "refuge_road_ids = set(refuge_road_segments['unique_id'])\n",
    "\n",
    "# Create CRS_ISLAND column and assign 1 where a refuge island exists, 0 otherwise\n",
    "crossings['CRS_ISLAND'] = crossings['CRS_LEG'].apply(lambda x: 1 if any(seg in refuge_road_ids for seg in x) else 0)\n",
    "\n",
    "# Identify unassociated refuge islands (those not linked to any road segment)\n",
    "unassociated_refuge_islands = refuge_islands[~refuge_islands.intersects(refuge_road_segments.unary_union)]\n",
    "\n",
    "# Save unassociated refuge islands to a new shapefile\n",
    "unassociated_refuge_islands.to_file(unassociated_refuge_islands_path, driver='ESRI Shapefile')\n",
    "\n",
    "# Save the updated crossings shapefile\n",
    "crossings.to_file(crossings_path, driver='ESRI Shapefile')\n",
    "\n",
    "print(\"Updated crossings.shp with CRS_ISLAND attribute for refuge islands.\")\n",
    "print(f\"There are {len(unassociated_refuge_islands)} unassociated refuge islands.\")"
   ]
  },
  {
   "cell_type": "code",
   "execution_count": 3,
   "metadata": {},
   "outputs": [
    {
     "data": {
      "text/plain": [
       "CRS_ISLAND\n",
       "0    40355\n",
       "1      448\n",
       "Name: count, dtype: int64"
      ]
     },
     "execution_count": 3,
     "metadata": {},
     "output_type": "execute_result"
    }
   ],
   "source": [
    "crossings['CRS_ISLAND'].value_counts()"
   ]
  },
  {
   "cell_type": "code",
   "execution_count": null,
   "metadata": {},
   "outputs": [
    {
     "name": "stdout",
     "output_type": "stream",
     "text": [
      "Filtered crossings saved to 'unc_island.shp'\n"
     ]
    }
   ],
   "source": [
    "unc_island = crossings[(crossings['CRS_ISLAND'] == 1) & \n",
    "          (crossings['CONTROL'].isna() | (crossings['CONTROL'] == \"\"))]\n",
    "\n",
    "unc_island_path = os.path.join(base_dir, \"unc_island.shp\")\n",
    "unc_island.to_file(unc_island_path, driver='ESRI Shapefile')\n",
    "\n",
    "print(\"Filtered crossings saved to 'unc_island.shp'\")"
   ]
  }
 ],
 "metadata": {
  "kernelspec": {
   "display_name": "Python 3",
   "language": "python",
   "name": "python3"
  },
  "language_info": {
   "codemirror_mode": {
    "name": "ipython",
    "version": 3
   },
   "file_extension": ".py",
   "mimetype": "text/x-python",
   "name": "python",
   "nbconvert_exporter": "python",
   "pygments_lexer": "ipython3",
   "version": "3.10.0"
  }
 },
 "nbformat": 4,
 "nbformat_minor": 2
}
