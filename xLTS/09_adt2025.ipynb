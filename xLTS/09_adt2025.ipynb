{
 "cells": [
  {
   "cell_type": "code",
   "execution_count": 1,
   "metadata": {},
   "outputs": [],
   "source": [
    "import geopandas as gpd\n",
    "import os\n",
    "\n",
    "# === BASE DIRECTORY ===\n",
    "base_dir = r\"C:\\Users\\natda\\OneDrive - Northeastern University\\Desktop\\NatDave\\Academics\\PhD_NU\\RESEARCH\\Traffic_Stress\\Boston\"\n",
    "\n",
    "# === FILE PATHS ===\n",
    "roads_path = os.path.join(base_dir, \"street_network.shp\")\n",
    "\n",
    "# === LOAD SHAPEFILE ===\n",
    "roads = gpd.read_file(roads_path)\n",
    "\n",
    "# === FILTER ONE-WAY STREETS ===\n",
    "one_way_one_lane_roads = roads[(roads['StOperNEU'] == 1) & (roads['qDirLanes2'] < 2)]"
   ]
  },
  {
   "cell_type": "code",
   "execution_count": 2,
   "metadata": {},
   "outputs": [
    {
     "name": "stdout",
     "output_type": "stream",
     "text": [
      "Identified 58 connected one-way street neighborhoods with total length greater than 600m.\n"
     ]
    }
   ],
   "source": [
    "# === FUNCTION TO IDENTIFY CONNECTED SEGMENTS BASED ON STREET NAME ===\n",
    "def identify_connected_segments(road_gdf):\n",
    "    \"\"\"Identify connected road segments by street name, ensuring segments are connected by touching.\"\"\"\n",
    "    connected_segments = []  # To store connected components\n",
    "    \n",
    "    for street_name in road_gdf['STREETNAME'].unique():\n",
    "        street_segments = road_gdf[road_gdf['STREETNAME'] == street_name]\n",
    "        \n",
    "        # Initialize groupings for connected segments\n",
    "        group = []\n",
    "        \n",
    "        for _, row in street_segments.iterrows():\n",
    "            road_geom = row['geometry']\n",
    "            connected = False\n",
    "            \n",
    "            # Check if this segment is already connected to any in the group\n",
    "            for seg in group:\n",
    "                if road_geom.intersects(seg['geometry']):\n",
    "                    connected = True\n",
    "                    break\n",
    "            \n",
    "            # If connected, add it to the group, otherwise start a new group\n",
    "            if connected:\n",
    "                group.append(row)\n",
    "            else:\n",
    "                # Save the current group and start a new one\n",
    "                if group:\n",
    "                    connected_segments.append(group)\n",
    "                group = [row]\n",
    "        \n",
    "        # Append the last group\n",
    "        if group:\n",
    "            connected_segments.append(group)\n",
    "    \n",
    "    return connected_segments\n",
    "\n",
    "# === APPLY FUNCTION TO IDENTIFY CONNECTED SEGMENTS BY STREET NAME ===\n",
    "connected_segments = identify_connected_segments(one_way_one_lane_roads)\n",
    "\n",
    "# === FILTER BY LENGTH > 600m ===\n",
    "long_streets = []\n",
    "\n",
    "for group in connected_segments:\n",
    "    total_length = sum([seg['geometry'].length for seg in group])\n",
    "    if total_length > 600:  # Only keep streets with length > 600m\n",
    "        long_streets.append(group)\n",
    "\n",
    "# === OUTPUT THE RESULTS ===\n",
    "print(f\"Identified {len(long_streets)} connected one-way street neighborhoods with total length greater than 600m.\")\n",
    "\n",
    "# Create GeoDataFrame for long streets (just for visualization)\n",
    "long_streets_gdf = gpd.GeoDataFrame([seg for group in long_streets for seg in group])\n",
    "\n",
    "# Set CRS to match the original roads GeoDataFrame\n",
    "long_streets_gdf.set_crs(roads.crs, inplace=True)\n",
    "\n",
    "# Save to file (for visualization)\n",
    "long_streets_path = os.path.join(base_dir, \"long_streets.shp\")\n",
    "long_streets_gdf.to_file(long_streets_path)\n",
    "\n",
    "# === UPDATE ADT_2025 FOR THE ORIGINAL ROADS (INCLUDED IN one_way_one_lane_ROADS) ===\n",
    "# Now, we use the 'unique_id' to match the long street segments and update ADT_2025\n",
    "# Update ADT_2025 for the segments in long streets (999) and the others (599)\n",
    "\n",
    "# Get unique_ids for long street segments\n",
    "long_streets_unique_ids = [seg['unique_id'] for group in long_streets for seg in group]\n",
    "\n",
    "# Update ADT_2025 for the segments that are part of long streets (999)\n",
    "roads.loc[roads['unique_id'].isin(long_streets_unique_ids), 'ADT_2025'] = 999\n",
    "\n",
    "# Update ADT_2025 for the rest of the one-way, one-lane roads (599)\n",
    "roads.loc[roads['unique_id'].isin(one_way_one_lane_roads['unique_id']) & \n",
    "          ~roads['unique_id'].isin(long_streets_unique_ids), 'ADT_2025'] = 599"
   ]
  },
  {
   "cell_type": "code",
   "execution_count": 3,
   "metadata": {},
   "outputs": [],
   "source": [
    "roads.loc[roads['ADT_2025'] == 8001, 'ADT_2025'] = 12001"
   ]
  },
  {
   "cell_type": "code",
   "execution_count": 4,
   "metadata": {},
   "outputs": [
    {
     "data": {
      "text/plain": [
       "ADT_2025\n",
       "3001     16088\n",
       "749      10471\n",
       "599       4280\n",
       "0         2224\n",
       "12001     1809\n",
       "751        740\n",
       "2999       456\n",
       "999        450\n",
       "1501       156\n",
       "1499        66\n",
       "7999        56\n",
       "Name: count, dtype: int64"
      ]
     },
     "execution_count": 4,
     "metadata": {},
     "output_type": "execute_result"
    }
   ],
   "source": [
    "roads['ADT_2025'].value_counts()"
   ]
  },
  {
   "cell_type": "code",
   "execution_count": null,
   "metadata": {},
   "outputs": [],
   "source": [
    "# === SAVE THE UPDATED ROADS SHAPEFILE ===\n",
    "roads.to_file(roads_path, driver=\"ESRI Shapefile\")"
   ]
  }
 ],
 "metadata": {
  "kernelspec": {
   "display_name": "Python 3",
   "language": "python",
   "name": "python3"
  },
  "language_info": {
   "codemirror_mode": {
    "name": "ipython",
    "version": 3
   },
   "file_extension": ".py",
   "mimetype": "text/x-python",
   "name": "python",
   "nbconvert_exporter": "python",
   "pygments_lexer": "ipython3",
   "version": "3.10.0"
  }
 },
 "nbformat": 4,
 "nbformat_minor": 2
}
