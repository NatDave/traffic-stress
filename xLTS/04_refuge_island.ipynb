{
 "cells": [
  {
   "cell_type": "code",
   "execution_count": null,
   "metadata": {},
   "outputs": [
    {
     "name": "stdout",
     "output_type": "stream",
     "text": [
      "Updated crossings.shp with CRS_ISLAND attribute for refuge islands.\n",
      "There are 70 unassociated refuge islands.\n"
     ]
    }
   ],
   "source": [
    "import geopandas as gpd\n",
    "import os\n",
    "import warnings\n",
    "import ast\n",
    "\n",
    "warnings.filterwarnings(\"ignore\")\n",
    "\n",
    "# Base directory path\n",
    "base_dir = r\"C:\\Users\\natda\\OneDrive - Northeastern University\\Desktop\\NatDave\\Academics\\PhD_NU\\RESEARCH\\Traffic_Stress\\Boston\"\n",
    "\n",
    "# Construct file paths\n",
    "roads_path = os.path.join(base_dir, \"street_network.shp\")\n",
    "crossings_path = os.path.join(base_dir, \"crossings.shp\")\n",
    "refuge_islands_path = os.path.join(base_dir, \"osm_refuge_islands.gdb\")\n",
    "unassociated_refuge_islands_path = os.path.join(base_dir, \"unassociated_refuge_islands.shp\")\n",
    "\n",
    "# Load shapefiles\n",
    "roads = gpd.read_file(roads_path)\n",
    "crossings = gpd.read_file(crossings_path)\n",
    "refuge_islands = gpd.read_file(refuge_islands_path)\n",
    "\n",
    "# Convert CRS_LEG from string to list\n",
    "crossings['CRS_LEG'] = crossings['CRS_LEG'].apply(lambda x: ast.literal_eval(x) if isinstance(x, str) else x)\n",
    "\n",
    "# Reproject refuge islands to match roads CRS\n",
    "refuge_islands = refuge_islands.to_crs(roads.crs)\n",
    "\n",
    "# Add 'ID' column to refuge islands and assign sequential values\n",
    "refuge_islands['ID'] = range(1, len(refuge_islands) + 1)\n",
    "\n",
    "# Buffer refuge islands by 5 meters\n",
    "refuge_islands['geometry'] = refuge_islands.geometry.buffer(5)\n",
    "\n",
    "# Identify road segments that intersect with refuge islands\n",
    "refuge_road_segments = roads[roads.geometry.intersects(refuge_islands.unary_union)]\n",
    "refuge_road_ids = set(refuge_road_segments['unique_id'])\n",
    "\n",
    "# Create a dictionary to store the nearest junction for each refuge island\n",
    "junctions = crossings[['JUNC_ID', 'geometry']].drop_duplicates()  # Get unique junction points\n",
    "island_to_junction = {}\n",
    "\n",
    "for _, island in refuge_islands.iterrows():\n",
    "    island_geom = island.geometry\n",
    "    distances = junctions.geometry.distance(island_geom)\n",
    "    nearest_junction_idx = distances.idxmin()\n",
    "    nearest_junction_id = junctions.loc[nearest_junction_idx, 'JUNC_ID']\n",
    "    island_to_junction[island['ID']] = nearest_junction_id\n",
    "\n",
    "# Assign CRS_ISLAND only at crossings near the nearest junction\n",
    "crossings['CRS_ISLAND'] = 0                 # Default to 0\n",
    "for idx, row in crossings.iterrows():\n",
    "    crs_leg = row['CRS_LEG']\n",
    "\n",
    "    if isinstance(crs_leg, list):\n",
    "        has_refuge_island = any(seg in refuge_road_ids for seg in crs_leg)\n",
    "\n",
    "        # Ensure that the crossing is at the nearest junction for the island\n",
    "        if has_refuge_island and row['JUNC_ID'] in island_to_junction.values():\n",
    "            crossings.at[idx, 'CRS_ISLAND'] = 1  # Assign 1 only at nearest junction\n",
    "\n",
    "# Identify unassociated refuge islands (those not linked to any road segment)\n",
    "unassociated_refuge_islands = refuge_islands[~refuge_islands.intersects(refuge_road_segments.unary_union)]\n",
    "\n",
    "# Save unassociated refuge islands to a new shapefile\n",
    "unassociated_refuge_islands.to_file(unassociated_refuge_islands_path, driver='ESRI Shapefile')\n",
    "\n",
    "# Save the updated crossings shapefile``\n",
    "crossings.to_file(crossings_path, driver='ESRI Shapefile')\n",
    "\n",
    "print(\"Updated crossings.shp with CRS_ISLAND attribute for refuge islands.\")\n",
    "print(f\"There are {len(unassociated_refuge_islands)} unassociated refuge islands.\")"
   ]
  },
  {
   "cell_type": "code",
   "execution_count": 2,
   "metadata": {},
   "outputs": [
    {
     "data": {
      "text/plain": [
       "CRS_ISLAND\n",
       "0    41696\n",
       "1      257\n",
       "Name: count, dtype: int64"
      ]
     },
     "execution_count": 2,
     "metadata": {},
     "output_type": "execute_result"
    }
   ],
   "source": [
    "crossings['CRS_ISLAND'].value_counts()"
   ]
  },
  {
   "cell_type": "code",
   "execution_count": 3,
   "metadata": {},
   "outputs": [
    {
     "name": "stdout",
     "output_type": "stream",
     "text": [
      "Filtered crossings saved to 'unc_island.shp'\n"
     ]
    }
   ],
   "source": [
    "unc_island = crossings[(crossings['CRS_ISLAND'] == 1) & \n",
    "          (crossings['CONTROL'].isna() | (crossings['CONTROL'] == \"\"))]\n",
    "\n",
    "unc_island_path = os.path.join(base_dir, \"unc_island.shp\")\n",
    "unc_island.to_file(unc_island_path, driver='ESRI Shapefile')\n",
    "\n",
    "print(\"Filtered crossings saved to 'unc_island.shp'\")"
   ]
  },
  {
   "cell_type": "code",
   "execution_count": 4,
   "metadata": {},
   "outputs": [
    {
     "name": "stdout",
     "output_type": "stream",
     "text": [
      "CONTROL\n",
      "signal          135\n",
      "None             93\n",
      "implied_stop     23\n",
      "stop              6\n",
      "Name: count, dtype: int64\n"
     ]
    }
   ],
   "source": [
    "# Filter the crossings DataFrame to include only rows where CRS_ISLAND is 1\n",
    "filtered_crossings = crossings[crossings['CRS_ISLAND'] == 1]\n",
    "\n",
    "# Get the value counts for each category in the CONTROL column\n",
    "control_value_counts = filtered_crossings['CONTROL'].value_counts(dropna=False)\n",
    "\n",
    "print(control_value_counts)"
   ]
  }
 ],
 "metadata": {
  "kernelspec": {
   "display_name": "Python 3",
   "language": "python",
   "name": "python3"
  },
  "language_info": {
   "codemirror_mode": {
    "name": "ipython",
    "version": 3
   },
   "file_extension": ".py",
   "mimetype": "text/x-python",
   "name": "python",
   "nbconvert_exporter": "python",
   "pygments_lexer": "ipython3",
   "version": "3.10.0"
  }
 },
 "nbformat": 4,
 "nbformat_minor": 2
}
