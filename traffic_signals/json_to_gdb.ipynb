{
 "cells": [
  {
   "cell_type": "code",
   "execution_count": 1,
   "metadata": {},
   "outputs": [
    {
     "name": "stdout",
     "output_type": "stream",
     "text": [
      "JSON data has been successfully imported as a feature class in ArcGIS Pro.\n"
     ]
    }
   ],
   "source": [
    "import arcpy\n",
    "import json\n",
    "import os\n",
    "\n",
    "# Set up the JSON file path\n",
    "json_path = r\"C:\\Users\\natda\\Desktop\\NatDave\\Academics\\PhD_NU\\RESEARCH\\Traffic Stress\\xLTS\\xLTS_2024\\TS\\TS_Boston\\boston_signals.json\"\n",
    "output_gdb = r\"C:\\Users\\natda\\Desktop\\NatDave\\Academics\\PhD_NU\\RESEARCH\\Traffic Stress\\xLTS\\xLTS_2024\\TS\\TS_Boston\\boston_signals.gdb\"\n",
    "output_fc = \"boston_signals\"\n",
    "\n",
    "# Create a geodatabase if it doesn't exist\n",
    "if not os.path.exists(output_gdb):\n",
    "    arcpy.CreateFileGDB_management(os.path.dirname(output_gdb), os.path.basename(output_gdb))\n",
    "\n",
    "# Read JSON\n",
    "with open(json_path, 'r') as file:\n",
    "    json_data = json.load(file)\n",
    "\n",
    "# Extract node data\n",
    "nodes = json_data.get('elements', [])\n",
    "\n",
    "# Define fields to map from tags\n",
    "field_mapping = {\n",
    "    \"highway\": \"highway\",\n",
    "    \"crossing\": \"crossing\",\n",
    "    \"button_operated\": \"button_operated\",\n",
    "    \"tactile_paving\": \"tactile_paving\",\n",
    "}\n",
    "\n",
    "# Create feature class with the specified geometry type (POINT)\n",
    "arcpy.CreateFeatureclass_management(\n",
    "    output_gdb,\n",
    "    output_fc,\n",
    "    \"POINT\",\n",
    "    spatial_reference=arcpy.SpatialReference(4326)  # WGS84 coordinate system\n",
    ")\n",
    "\n",
    "# Path to the created feature class\n",
    "feature_class_path = os.path.join(output_gdb, output_fc)\n",
    "\n",
    "# Add fields to the feature class for each mapped field\n",
    "for key in field_mapping.keys():\n",
    "    arcpy.AddField_management(feature_class_path, field_mapping[key], \"TEXT\")\n",
    "\n",
    "# Insert data into the feature class\n",
    "with arcpy.da.InsertCursor(feature_class_path, [\"SHAPE@\", *field_mapping.values()]) as cursor:\n",
    "    for node in nodes:\n",
    "        # Process only nodes with latitude, longitude\n",
    "        if node.get(\"type\") == \"node\" and \"lat\" in node and \"lon\" in node:\n",
    "            try:\n",
    "                # Extract geometry as a point\n",
    "                lat = float(node[\"lat\"])\n",
    "                lon = float(node[\"lon\"])\n",
    "                point_geometry = arcpy.PointGeometry(arcpy.Point(lon, lat), arcpy.SpatialReference(4326))\n",
    "\n",
    "                # Extract the properties/tags\n",
    "                tags = node.get(\"tags\", {})\n",
    "                row = [point_geometry]  # Geometry comes first\n",
    "                for key in field_mapping.keys():\n",
    "                    row.append(tags.get(key, None))  # Map tag data into respective fields\n",
    "\n",
    "                # Insert the row into the feature class\n",
    "                cursor.insertRow(row)\n",
    "            except Exception as e:\n",
    "                print(f\"Error processing node {node['id']}: {e}\")\n",
    "\n",
    "# Completion message\n",
    "print(\"JSON data has been successfully imported as a feature class in ArcGIS Pro.\")"
   ]
  }
 ],
 "metadata": {
  "kernelspec": {
   "display_name": "ArcGISPro",
   "language": "python",
   "name": "python3"
  },
  "language_info": {
   "file_extension": ".py",
   "mimetype": "text/x-python",
   "name": "python",
   "version": "3.11.10"
  }
 },
 "nbformat": 4,
 "nbformat_minor": 4
}
